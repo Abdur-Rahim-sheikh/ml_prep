{
 "cells": [
  {
   "cell_type": "code",
   "execution_count": 43,
   "metadata": {},
   "outputs": [],
   "source": [
    "import numpy as np \n",
    "import pandas as pd \t\n",
    "import matplotlib.pyplot as plt \n",
    "import math"
   ]
  },
  {
   "cell_type": "markdown",
   "metadata": {},
   "source": [
    "**bayes theorem** for multiple features \n",
    "\n",
    "`P(y | x1,x2,...,xn) = ` <br>\n",
    "`P(y) * P(x1 | y) * P(x2 | y) * ... * P(xn | y)/ (P(x1) * P(x2) * ... * P(xn))`\n",
    "\n",
    "<img src=\"../static/bayes_theorem.png\" alt=\"bayes theorem\"\n",
    "    height=\"300px\" width=\"500px\" style=\"filter: brightness(80%);\">\n",
    "\n"
   ]
  },
  {
   "cell_type": "code",
   "execution_count": 80,
   "metadata": {},
   "outputs": [],
   "source": [
    "class NaiveBayes:\n",
    "\tdef __init__(self):\n",
    "\t\tself.features = list\n",
    "\t\tself.likelihoods = {}\n",
    "\t\tself.class_priors = {}\n",
    "\t\tself.pred_priors = {}\n",
    "\n",
    "\t\tself.X_train = np.array\n",
    "\t\tself.y_train = np.array\n",
    "\t\tself.train_size = int\n",
    "\t\tself.num_feats = int\n",
    "\n",
    "\tdef fit(self, X, y):\n",
    "\t\tself.features = list(X.columns)\n",
    "\t\tself.X_train = X\n",
    "\t\tself.y_train = y\n",
    "\t\tself.train_size = X.shape[0]\n",
    "\t\tself.num_feats = X.shape[1]\n",
    "\n",
    "\t\tfor feature in self.features:\n",
    "\t\t\tself.likelihoods[feature] = {}\n",
    "\t\t\tself.pred_priors[feature] = {}\n",
    "\n",
    "\t\t\tfor feat_val in np.unique(self.X_train[feature]):\n",
    "\t\t\t\tself.pred_priors[feature].update({feat_val: 0})\n",
    "\n",
    "\t\t\t\tfor outcome in np.unique(self.y_train):\n",
    "\t\t\t\t\tself.likelihoods[feature].update({feat_val+'_'+outcome:0})\n",
    "\t\t\t\t\tself.class_priors.update({outcome: 0})\n",
    "\n",
    "\t\tself.prior_probability()\n",
    "\t\tself.calc_likelihoods()\n",
    "\t\tself.calc_predictor_prior()\n",
    "\n",
    "\tdef prior_probability(self):\n",
    "\t\tfor tag in self.y_train.unique():\n",
    "\t\t\tself.class_priors[tag] = sum(self.y_train==tag)/self.train_size\n",
    "\n",
    "\tdef calc_likelihoods(self):\n",
    "\t\tfor feature in self.features:\n",
    "\t\t\tfor tag in self.y_train.unique():\n",
    "\t\t\t\ttotal_count = sum(self.y_train==tag)\n",
    "\t\t\t\tfeature_likelihood = self.X_train[feature][self.y_train==tag].value_counts().to_dict()\n",
    "\t\t\t\t# print(feature_likelihood.value_counts().to_dict())\n",
    "\t\t\t\tfor feature_val, count in feature_likelihood.items():\n",
    "\t\t\t\t\tself.likelihoods[feature][feature_val + \"_\"+tag] = count/ total_count\n",
    "\n",
    "\tdef calc_predictor_prior(self):\n",
    "\t\tfor feature in self.features:\n",
    "\t\t\tfeature_vals = self.X_train[feature].value_counts().to_dict()\n",
    "\t\t\tfor feature_val, count in feature_vals.items():\n",
    "\t\t\t\tself.pred_priors[feature][feature_val] = count/self.train_size\n",
    "\n",
    "\tdef predict(self, X):\n",
    "\t\t\tresults = []\n",
    "\t\t\tX = np.array(X)\n",
    "\n",
    "\t\t\tfor query in X:\n",
    "\t\t\t\tprobs_outcome = {}\n",
    "\t\t\t\tfor outcome in np.unique(self.y_train):\n",
    "\t\t\t\t\tprior = self.class_priors[outcome]\n",
    "\t\t\t\t\tlikelihood = 1\n",
    "\t\t\t\t\tevidence = 1\n",
    "\n",
    "\t\t\t\t\tfor feat, feat_val in zip(self.features, query):\n",
    "\t\t\t\t\t\tlikelihood *= self.likelihoods[feat][feat_val + '_' + outcome]\n",
    "\t\t\t\t\t\tevidence *= self.pred_priors[feat][feat_val]\n",
    "\n",
    "\t\t\t\t\tposterior = (likelihood * prior) / (evidence)\n",
    "\n",
    "\t\t\t\t\tprobs_outcome[outcome] = posterior\n",
    "\n",
    "\t\t\t\tresult = max(probs_outcome, key = lambda x: probs_outcome[x])\n",
    "\t\t\t\tresults.append(result)\n",
    "\n",
    "\t\t\treturn np.array(results)\n"
   ]
  },
  {
   "cell_type": "code",
   "execution_count": 81,
   "metadata": {},
   "outputs": [],
   "source": [
    "def pre_processing(df):\n",
    "    X = df.drop(df.columns[-1], axis=1)\n",
    "    y = df[df.columns[-1]]\n",
    "    return X,y"
   ]
  },
  {
   "cell_type": "code",
   "execution_count": 82,
   "metadata": {},
   "outputs": [],
   "source": [
    "def accuracy_score(y_true, y_pred):\n",
    "\treturn round(float(sum(y_pred == y_true))/float(len(y_true)) * 100 ,2)"
   ]
  },
  {
   "cell_type": "code",
   "execution_count": 83,
   "metadata": {},
   "outputs": [
    {
     "name": "stdout",
     "output_type": "stream",
     "text": [
      "Accuracy: 92.86\n"
     ]
    }
   ],
   "source": [
    "df = pd.read_table(\"weather.txt\", delimiter=\",\", skipinitialspace=True)\n",
    "X,y = pre_processing(df)\n",
    "\n",
    "nb_classifier = NaiveBayes()\n",
    "nb_classifier.fit(X,y)\n",
    "\n",
    "pred = nb_classifier.predict(X)\n",
    "\n",
    "print(f\"Accuracy: {accuracy_score(y, pred)}\")"
   ]
  },
  {
   "cell_type": "code",
   "execution_count": 88,
   "metadata": {},
   "outputs": [
    {
     "name": "stdout",
     "output_type": "stream",
     "text": [
      "          0     1       2  3\n",
      "0     Rainy  Mild  Normal  t\n",
      "1  Overcast  Cool  Normal  t\n",
      "2     Sunny   Hot    High  t\n"
     ]
    },
    {
     "data": {
      "text/plain": [
       "array(['yes', 'yes', 'no'], dtype='<U3')"
      ]
     },
     "execution_count": 88,
     "metadata": {},
     "output_type": "execute_result"
    }
   ],
   "source": [
    "test = pd.DataFrame([\n",
    "    ['Rainy','Mild', 'Normal', 't'],\n",
    "    ['Overcast', 'Cool', 'Normal', 't'],\n",
    "    ['Sunny', 'Hot', 'High', 't']\n",
    "    ])\n",
    "print(test)\n",
    "nb_classifier.predict(test)"
   ]
  },
  {
   "cell_type": "code",
   "execution_count": null,
   "metadata": {},
   "outputs": [],
   "source": []
  }
 ],
 "metadata": {
  "kernelspec": {
   "display_name": "simple_env",
   "language": "python",
   "name": "python3"
  },
  "language_info": {
   "codemirror_mode": {
    "name": "ipython",
    "version": 3
   },
   "file_extension": ".py",
   "mimetype": "text/x-python",
   "name": "python",
   "nbconvert_exporter": "python",
   "pygments_lexer": "ipython3",
   "version": "3.11.8"
  }
 },
 "nbformat": 4,
 "nbformat_minor": 2
}
