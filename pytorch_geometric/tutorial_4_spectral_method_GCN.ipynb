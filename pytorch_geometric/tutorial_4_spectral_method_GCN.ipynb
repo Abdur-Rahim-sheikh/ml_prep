{
 "cells": [
  {
   "cell_type": "markdown",
   "metadata": {},
   "source": [
    "See their github notebook. This is well explained.\n",
    "[LINK](https://github.com/AntonioLonga/PytorchGeometricTutorial/blob/main/Tutorial4/Tutorial4.ipynb)"
   ]
  },
  {
   "cell_type": "markdown",
   "metadata": {},
   "source": [
    "## What you learn here\n",
    "* How fourier and inverse fourier transform works\n",
    "    - $F^{-1}(F(v)) = v$\n",
    "    - $F(v * w) = F(v) \\odot F(w)$\n",
    "\n",
    "    Which implies,\n",
    "    - $v * w = F^{-1}(F(v * w))$\n",
    "    - $v * w = F^{-1}(F(v) * F(w))$\n",
    "* Graph laplacian\n",
    "* Graph spectrum"
   ]
  },
  {
   "cell_type": "markdown",
   "metadata": {},
   "source": []
  }
 ],
 "metadata": {
  "language_info": {
   "name": "python"
  }
 },
 "nbformat": 4,
 "nbformat_minor": 2
}
