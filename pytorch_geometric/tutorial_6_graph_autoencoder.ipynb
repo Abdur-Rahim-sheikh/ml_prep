{
 "cells": [
  {
   "cell_type": "markdown",
   "metadata": {},
   "source": [
    "## GAE: Graph Auto-Encoder"
   ]
  },
  {
   "cell_type": "code",
   "execution_count": 1,
   "metadata": {},
   "outputs": [
    {
     "name": "stdout",
     "output_type": "stream",
     "text": [
      "1.12.0+cu116\n"
     ]
    },
    {
     "name": "stderr",
     "output_type": "stream",
     "text": [
      "/home/abir/miniconda3/envs/pygdebias_env/lib/python3.9/site-packages/tqdm/auto.py:22: TqdmWarning: IProgress not found. Please update jupyter and ipywidgets. See https://ipywidgets.readthedocs.io/en/stable/user_install.html\n",
      "  from .autonotebook import tqdm as notebook_tqdm\n"
     ]
    }
   ],
   "source": [
    "import os\n",
    "import torch\n",
    "os.environ['TORCH'] = torch.__version__\n",
    "print(torch.__version__)\n",
    "\n",
    "# !pip install -q torch-scatter -f https://data.pyg.org/whl/torch-${TORCH}.html\n",
    "# !pip install -q torch-sparse -f https://data.pyg.org/whl/torch-${TORCH}.html\n",
    "# !pip install -q git+https://github.com/pyg-team/pytorch_geometric.git"
   ]
  },
  {
   "cell_type": "code",
   "execution_count": 8,
   "metadata": {},
   "outputs": [],
   "source": [
    "import torch\n",
    "from torch_geometric.datasets import Planetoid\n",
    "import torch_geometric.transforms as T\n",
    "from torch_geometric.nn import GCNConv\n",
    "from torch_geometric.utils import train_test_split_edges"
   ]
  },
  {
   "cell_type": "markdown",
   "metadata": {},
   "source": [
    "# Tutorial 6  \n",
    "Graph AutoEncoders GAE &  \n",
    "Variational Graph Autoencoders VGAE    \n",
    "\n",
    "[paper](https://arxiv.org/pdf/1611.07308.pdf)  \n",
    "[code](https://github.com/rusty1s/pytorch_geometric/blob/master/examples/autoencoder.py)"
   ]
  },
  {
   "cell_type": "markdown",
   "metadata": {},
   "source": [
    "## Graph AutoEncoder GAE"
   ]
  },
  {
   "cell_type": "markdown",
   "metadata": {},
   "source": [
    "### Load the data"
   ]
  },
  {
   "cell_type": "code",
   "execution_count": 3,
   "metadata": {},
   "outputs": [
    {
     "name": "stderr",
     "output_type": "stream",
     "text": [
      "Downloading https://github.com/kimiyoung/planetoid/raw/master/data/ind.citeseer.x\n",
      "Downloading https://github.com/kimiyoung/planetoid/raw/master/data/ind.citeseer.tx\n",
      "Downloading https://github.com/kimiyoung/planetoid/raw/master/data/ind.citeseer.allx\n",
      "Downloading https://github.com/kimiyoung/planetoid/raw/master/data/ind.citeseer.y\n",
      "Downloading https://github.com/kimiyoung/planetoid/raw/master/data/ind.citeseer.ty\n",
      "Downloading https://github.com/kimiyoung/planetoid/raw/master/data/ind.citeseer.ally\n",
      "Downloading https://github.com/kimiyoung/planetoid/raw/master/data/ind.citeseer.graph\n",
      "Downloading https://github.com/kimiyoung/planetoid/raw/master/data/ind.citeseer.test.index\n",
      "Processing...\n",
      "Done!\n",
      "/home/abir/miniconda3/envs/pygdebias_env/lib/python3.9/site-packages/torch_geometric/data/in_memory_dataset.py:300: UserWarning: It is not recommended to directly access the internal storage format `data` of an 'InMemoryDataset'. If you are absolutely certain what you are doing, access the internal storage via `InMemoryDataset._data` instead to suppress this warning. Alternatively, you can access stacked individual attributes of every graph via `dataset.{attr_name}`.\n",
      "  warnings.warn(msg)\n"
     ]
    },
    {
     "data": {
      "text/plain": [
       "Data(x=[3327, 3703], edge_index=[2, 9104], y=[3327], train_mask=[3327], val_mask=[3327], test_mask=[3327])"
      ]
     },
     "execution_count": 3,
     "metadata": {},
     "output_type": "execute_result"
    }
   ],
   "source": [
    "dataset = Planetoid(\"dataset\", \"CiteSeer\", transform=T.NormalizeFeatures())\n",
    "dataset.data"
   ]
  },
  {
   "cell_type": "code",
   "execution_count": 37,
   "metadata": {},
   "outputs": [
    {
     "data": {
      "text/plain": [
       "Data(x=[3327, 3703], edge_index=[2, 9104], y=[3327])"
      ]
     },
     "execution_count": 37,
     "metadata": {},
     "output_type": "execute_result"
    }
   ],
   "source": [
    "data = dataset[0]\n",
    "data.train_mask = data.val_mask = data.test_mask = None\n",
    "data"
   ]
  },
  {
   "cell_type": "code",
   "execution_count": 38,
   "metadata": {},
   "outputs": [
    {
     "name": "stderr",
     "output_type": "stream",
     "text": [
      "/home/abir/miniconda3/envs/pygdebias_env/lib/python3.9/site-packages/torch_geometric/deprecation.py:26: UserWarning: 'train_test_split_edges' is deprecated, use 'transforms.RandomLinkSplit' instead\n",
      "  warnings.warn(out)\n"
     ]
    },
    {
     "data": {
      "text/plain": [
       "Data(x=[3327, 3703], y=[3327], val_pos_edge_index=[2, 227], test_pos_edge_index=[2, 455], train_pos_edge_index=[2, 7740], train_neg_adj_mask=[3327, 3327], val_neg_edge_index=[2, 227], test_neg_edge_index=[2, 455])"
      ]
     },
     "execution_count": 38,
     "metadata": {},
     "output_type": "execute_result"
    }
   ],
   "source": [
    "data = train_test_split_edges(data)\n",
    "data"
   ]
  },
  {
   "cell_type": "markdown",
   "metadata": {},
   "source": [
    "### Define the Encoder"
   ]
  },
  {
   "cell_type": "code",
   "execution_count": 39,
   "metadata": {},
   "outputs": [],
   "source": [
    "class GCNEncoder(torch.nn.Module):\n",
    "    def __init__(self, in_channels, out_channels):\n",
    "        super().__init__()\n",
    "        self.conv1 = GCNConv(in_channels, 2 * out_channels, cached=True) # cached only for transductive learning\n",
    "        self.conv2 = GCNConv(2 * out_channels, out_channels, cached=True) # cached only for transductive learning\n",
    "\n",
    "    def forward(self, x, edge_index):\n",
    "        x = self.conv1(x, edge_index).relu()\n",
    "        return self.conv2(x, edge_index)\n",
    "    "
   ]
  },
  {
   "cell_type": "markdown",
   "metadata": {},
   "source": [
    "### Define the Autoencoder"
   ]
  },
  {
   "cell_type": "code",
   "execution_count": 40,
   "metadata": {},
   "outputs": [],
   "source": [
    "from torch_geometric.nn import GAE"
   ]
  },
  {
   "cell_type": "code",
   "execution_count": 41,
   "metadata": {},
   "outputs": [],
   "source": [
    "# parameters\n",
    "out_channels = 2\n",
    "num_features = dataset.num_features\n",
    "epochs = 100\n",
    "\n",
    "# model\n",
    "model = GAE(GCNEncoder(num_features, out_channels))\n",
    "\n",
    "# move to GPU (if available)\n",
    "device = torch.device('cuda' if torch.cuda.is_available() else 'cpu')\n",
    "model = model.to(device)\n",
    "x = data.x.to(device)\n",
    "train_pos_edge_index = data.train_pos_edge_index.to(device)\n",
    "\n",
    "# inizialize the optimizer\n",
    "optimizer = torch.optim.Adam(model.parameters(), lr=0.01)"
   ]
  },
  {
   "cell_type": "code",
   "execution_count": 42,
   "metadata": {},
   "outputs": [],
   "source": [
    "def train():\n",
    "    model.train()\n",
    "    optimizer.zero_grad()\n",
    "    z = model.encode(x, train_pos_edge_index)\n",
    "    loss = model.recon_loss(z, train_pos_edge_index)\n",
    "    #if args.variational:\n",
    "    #   loss = loss + (1 / data.num_nodes) * model.kl_loss()\n",
    "    loss.backward()\n",
    "    optimizer.step()\n",
    "    return float(loss)\n",
    "\n",
    "\n",
    "def test(pos_edge_index, neg_edge_index):\n",
    "    model.eval()\n",
    "    with torch.no_grad():\n",
    "        z = model.encode(x, train_pos_edge_index)\n",
    "    return model.test(z, pos_edge_index, neg_edge_index)\n",
    "\n"
   ]
  },
  {
   "cell_type": "code",
   "execution_count": 43,
   "metadata": {
    "scrolled": true
   },
   "outputs": [
    {
     "name": "stdout",
     "output_type": "stream",
     "text": [
      "Epoch: 001, AUC: 0.6329, AP: 0.6626\n",
      "Epoch: 002, AUC: 0.6373, AP: 0.6690\n",
      "Epoch: 003, AUC: 0.6390, AP: 0.6719\n",
      "Epoch: 004, AUC: 0.6387, AP: 0.6727\n",
      "Epoch: 005, AUC: 0.6386, AP: 0.6734\n",
      "Epoch: 006, AUC: 0.6382, AP: 0.6745\n",
      "Epoch: 007, AUC: 0.6382, AP: 0.6753\n",
      "Epoch: 008, AUC: 0.6385, AP: 0.6763\n",
      "Epoch: 009, AUC: 0.6385, AP: 0.6769\n",
      "Epoch: 010, AUC: 0.6383, AP: 0.6781\n",
      "Epoch: 011, AUC: 0.6382, AP: 0.6793\n",
      "Epoch: 012, AUC: 0.6382, AP: 0.6810\n",
      "Epoch: 013, AUC: 0.6372, AP: 0.6825\n",
      "Epoch: 014, AUC: 0.6362, AP: 0.6842\n",
      "Epoch: 015, AUC: 0.6344, AP: 0.6855\n",
      "Epoch: 016, AUC: 0.6322, AP: 0.6865\n",
      "Epoch: 017, AUC: 0.6311, AP: 0.6882\n",
      "Epoch: 018, AUC: 0.6299, AP: 0.6894\n",
      "Epoch: 019, AUC: 0.6285, AP: 0.6900\n",
      "Epoch: 020, AUC: 0.6280, AP: 0.6905\n",
      "Epoch: 021, AUC: 0.6276, AP: 0.6910\n",
      "Epoch: 022, AUC: 0.6272, AP: 0.6914\n",
      "Epoch: 023, AUC: 0.6272, AP: 0.6918\n",
      "Epoch: 024, AUC: 0.6271, AP: 0.6918\n",
      "Epoch: 025, AUC: 0.6272, AP: 0.6922\n",
      "Epoch: 026, AUC: 0.6274, AP: 0.6928\n",
      "Epoch: 027, AUC: 0.6282, AP: 0.6932\n",
      "Epoch: 028, AUC: 0.6293, AP: 0.6938\n",
      "Epoch: 029, AUC: 0.6313, AP: 0.6953\n",
      "Epoch: 030, AUC: 0.6350, AP: 0.6974\n",
      "Epoch: 031, AUC: 0.6402, AP: 0.6994\n",
      "Epoch: 032, AUC: 0.6463, AP: 0.7015\n",
      "Epoch: 033, AUC: 0.6526, AP: 0.7039\n",
      "Epoch: 034, AUC: 0.6581, AP: 0.7059\n",
      "Epoch: 035, AUC: 0.6627, AP: 0.7081\n",
      "Epoch: 036, AUC: 0.6676, AP: 0.7101\n",
      "Epoch: 037, AUC: 0.6729, AP: 0.7124\n",
      "Epoch: 038, AUC: 0.6811, AP: 0.7156\n",
      "Epoch: 039, AUC: 0.6899, AP: 0.7191\n",
      "Epoch: 040, AUC: 0.6984, AP: 0.7229\n",
      "Epoch: 041, AUC: 0.7085, AP: 0.7275\n",
      "Epoch: 042, AUC: 0.7192, AP: 0.7324\n",
      "Epoch: 043, AUC: 0.7271, AP: 0.7359\n",
      "Epoch: 044, AUC: 0.7332, AP: 0.7387\n",
      "Epoch: 045, AUC: 0.7378, AP: 0.7409\n",
      "Epoch: 046, AUC: 0.7413, AP: 0.7428\n",
      "Epoch: 047, AUC: 0.7449, AP: 0.7447\n",
      "Epoch: 048, AUC: 0.7491, AP: 0.7471\n",
      "Epoch: 049, AUC: 0.7528, AP: 0.7492\n",
      "Epoch: 050, AUC: 0.7569, AP: 0.7515\n",
      "Epoch: 051, AUC: 0.7595, AP: 0.7528\n",
      "Epoch: 052, AUC: 0.7616, AP: 0.7536\n",
      "Epoch: 053, AUC: 0.7637, AP: 0.7547\n",
      "Epoch: 054, AUC: 0.7655, AP: 0.7559\n",
      "Epoch: 055, AUC: 0.7678, AP: 0.7577\n",
      "Epoch: 056, AUC: 0.7689, AP: 0.7581\n",
      "Epoch: 057, AUC: 0.7692, AP: 0.7584\n",
      "Epoch: 058, AUC: 0.7686, AP: 0.7576\n",
      "Epoch: 059, AUC: 0.7677, AP: 0.7564\n",
      "Epoch: 060, AUC: 0.7676, AP: 0.7564\n",
      "Epoch: 061, AUC: 0.7677, AP: 0.7564\n",
      "Epoch: 062, AUC: 0.7672, AP: 0.7559\n",
      "Epoch: 063, AUC: 0.7670, AP: 0.7557\n",
      "Epoch: 064, AUC: 0.7663, AP: 0.7552\n",
      "Epoch: 065, AUC: 0.7655, AP: 0.7545\n",
      "Epoch: 066, AUC: 0.7660, AP: 0.7553\n",
      "Epoch: 067, AUC: 0.7654, AP: 0.7549\n",
      "Epoch: 068, AUC: 0.7642, AP: 0.7534\n",
      "Epoch: 069, AUC: 0.7649, AP: 0.7543\n",
      "Epoch: 070, AUC: 0.7655, AP: 0.7548\n",
      "Epoch: 071, AUC: 0.7647, AP: 0.7535\n",
      "Epoch: 072, AUC: 0.7642, AP: 0.7535\n",
      "Epoch: 073, AUC: 0.7636, AP: 0.7533\n",
      "Epoch: 074, AUC: 0.7626, AP: 0.7521\n",
      "Epoch: 075, AUC: 0.7624, AP: 0.7519\n",
      "Epoch: 076, AUC: 0.7632, AP: 0.7527\n",
      "Epoch: 077, AUC: 0.7637, AP: 0.7536\n",
      "Epoch: 078, AUC: 0.7634, AP: 0.7534\n",
      "Epoch: 079, AUC: 0.7633, AP: 0.7533\n",
      "Epoch: 080, AUC: 0.7628, AP: 0.7531\n",
      "Epoch: 081, AUC: 0.7623, AP: 0.7522\n",
      "Epoch: 082, AUC: 0.7629, AP: 0.7529\n",
      "Epoch: 083, AUC: 0.7635, AP: 0.7534\n",
      "Epoch: 084, AUC: 0.7646, AP: 0.7548\n",
      "Epoch: 085, AUC: 0.7646, AP: 0.7547\n",
      "Epoch: 086, AUC: 0.7637, AP: 0.7536\n",
      "Epoch: 087, AUC: 0.7628, AP: 0.7526\n",
      "Epoch: 088, AUC: 0.7636, AP: 0.7536\n",
      "Epoch: 089, AUC: 0.7637, AP: 0.7538\n",
      "Epoch: 090, AUC: 0.7646, AP: 0.7548\n",
      "Epoch: 091, AUC: 0.7649, AP: 0.7552\n",
      "Epoch: 092, AUC: 0.7660, AP: 0.7565\n",
      "Epoch: 093, AUC: 0.7666, AP: 0.7569\n",
      "Epoch: 094, AUC: 0.7673, AP: 0.7576\n",
      "Epoch: 095, AUC: 0.7669, AP: 0.7573\n",
      "Epoch: 096, AUC: 0.7671, AP: 0.7575\n",
      "Epoch: 097, AUC: 0.7677, AP: 0.7579\n",
      "Epoch: 098, AUC: 0.7682, AP: 0.7583\n",
      "Epoch: 099, AUC: 0.7686, AP: 0.7587\n",
      "Epoch: 100, AUC: 0.7686, AP: 0.7583\n"
     ]
    }
   ],
   "source": [
    "for epoch in range(1, epochs + 1):\n",
    "    loss = train()\n",
    "\n",
    "    auc, ap = test(data.test_pos_edge_index, data.test_neg_edge_index)\n",
    "    print('Epoch: {:03d}, AUC: {:.4f}, AP: {:.4f}'.format(epoch, auc, ap))"
   ]
  },
  {
   "cell_type": "code",
   "execution_count": 44,
   "metadata": {},
   "outputs": [
    {
     "data": {
      "text/plain": [
       "tensor([[ 0.3792,  0.4845],\n",
       "        [-0.8236, -0.9332],\n",
       "        [ 0.6134,  0.7135],\n",
       "        ...,\n",
       "        [-0.2114, -0.2070],\n",
       "        [ 0.6134,  0.7135],\n",
       "        [ 0.6134,  0.7135]], device='cuda:0', grad_fn=<AddBackward0>)"
      ]
     },
     "execution_count": 44,
     "metadata": {},
     "output_type": "execute_result"
    }
   ],
   "source": [
    "Z = model.encode(x, train_pos_edge_index)\n",
    "Z"
   ]
  },
  {
   "cell_type": "code",
   "execution_count": null,
   "metadata": {},
   "outputs": [],
   "source": []
  },
  {
   "cell_type": "code",
   "execution_count": null,
   "metadata": {},
   "outputs": [],
   "source": []
  },
  {
   "cell_type": "code",
   "execution_count": 45,
   "metadata": {},
   "outputs": [],
   "source": [
    "### AUC: Area Under the Curve\n",
    "### AP: Average Precision"
   ]
  },
  {
   "cell_type": "markdown",
   "metadata": {},
   "source": [
    "## Are the results (AUC) and (AP) easy to read and compare?"
   ]
  },
  {
   "cell_type": "markdown",
   "metadata": {},
   "source": [
    "# Use Tensorboard"
   ]
  },
  {
   "cell_type": "code",
   "execution_count": 46,
   "metadata": {},
   "outputs": [],
   "source": [
    "from torch.utils.tensorboard import SummaryWriter"
   ]
  },
  {
   "cell_type": "code",
   "execution_count": 51,
   "metadata": {},
   "outputs": [],
   "source": [
    "# parameters\n",
    "out_channels = 4\n",
    "num_features = dataset.num_features\n",
    "epochs = 100\n",
    "\n",
    "# model\n",
    "model = GAE(GCNEncoder(num_features, out_channels))\n",
    "\n",
    "# move to GPU (if available)\n",
    "device = torch.device('cuda' if torch.cuda.is_available() else 'cpu')\n",
    "model = model.to(device)\n",
    "x = data.x.to(device)\n",
    "train_pos_edge_index = data.train_pos_edge_index.to(device)\n",
    "\n",
    "# inizialize the optimizer\n",
    "optimizer = torch.optim.Adam(model.parameters(), lr=0.01)"
   ]
  },
  {
   "cell_type": "markdown",
   "metadata": {},
   "source": [
    "### Import tensorboard\n",
    "\n",
    "#### Installation: (if needed) \"pip install tensorboard\""
   ]
  },
  {
   "cell_type": "code",
   "execution_count": 52,
   "metadata": {},
   "outputs": [],
   "source": [
    "writer = SummaryWriter('runs/GAE1_experiment_'+'4d_100_epochs')"
   ]
  },
  {
   "cell_type": "code",
   "execution_count": 53,
   "metadata": {
    "scrolled": true
   },
   "outputs": [
    {
     "name": "stdout",
     "output_type": "stream",
     "text": [
      "Epoch: 001, AUC: 0.6320, AP: 0.6678\n",
      "Epoch: 002, AUC: 0.6365, AP: 0.6722\n",
      "Epoch: 003, AUC: 0.6382, AP: 0.6741\n",
      "Epoch: 004, AUC: 0.6402, AP: 0.6764\n",
      "Epoch: 005, AUC: 0.6404, AP: 0.6777\n",
      "Epoch: 006, AUC: 0.6413, AP: 0.6799\n",
      "Epoch: 007, AUC: 0.6415, AP: 0.6824\n",
      "Epoch: 008, AUC: 0.6402, AP: 0.6851\n",
      "Epoch: 009, AUC: 0.6366, AP: 0.6859\n",
      "Epoch: 010, AUC: 0.6331, AP: 0.6877\n",
      "Epoch: 011, AUC: 0.6301, AP: 0.6890\n",
      "Epoch: 012, AUC: 0.6281, AP: 0.6896\n",
      "Epoch: 013, AUC: 0.6276, AP: 0.6911\n",
      "Epoch: 014, AUC: 0.6278, AP: 0.6917\n",
      "Epoch: 015, AUC: 0.6284, AP: 0.6924\n",
      "Epoch: 016, AUC: 0.6291, AP: 0.6930\n",
      "Epoch: 017, AUC: 0.6298, AP: 0.6937\n",
      "Epoch: 018, AUC: 0.6307, AP: 0.6942\n",
      "Epoch: 019, AUC: 0.6327, AP: 0.6953\n",
      "Epoch: 020, AUC: 0.6375, AP: 0.6980\n",
      "Epoch: 021, AUC: 0.6478, AP: 0.7013\n",
      "Epoch: 022, AUC: 0.6603, AP: 0.7066\n",
      "Epoch: 023, AUC: 0.6750, AP: 0.7124\n",
      "Epoch: 024, AUC: 0.6901, AP: 0.7187\n",
      "Epoch: 025, AUC: 0.7026, AP: 0.7238\n",
      "Epoch: 026, AUC: 0.7097, AP: 0.7268\n",
      "Epoch: 027, AUC: 0.7164, AP: 0.7298\n",
      "Epoch: 028, AUC: 0.7273, AP: 0.7352\n",
      "Epoch: 029, AUC: 0.7413, AP: 0.7422\n",
      "Epoch: 030, AUC: 0.7500, AP: 0.7467\n",
      "Epoch: 031, AUC: 0.7547, AP: 0.7490\n",
      "Epoch: 032, AUC: 0.7588, AP: 0.7517\n",
      "Epoch: 033, AUC: 0.7621, AP: 0.7541\n",
      "Epoch: 034, AUC: 0.7643, AP: 0.7556\n",
      "Epoch: 035, AUC: 0.7662, AP: 0.7570\n",
      "Epoch: 036, AUC: 0.7681, AP: 0.7582\n",
      "Epoch: 037, AUC: 0.7690, AP: 0.7589\n",
      "Epoch: 038, AUC: 0.7678, AP: 0.7576\n",
      "Epoch: 039, AUC: 0.7662, AP: 0.7560\n",
      "Epoch: 040, AUC: 0.7655, AP: 0.7558\n",
      "Epoch: 041, AUC: 0.7660, AP: 0.7563\n",
      "Epoch: 042, AUC: 0.7663, AP: 0.7564\n",
      "Epoch: 043, AUC: 0.7660, AP: 0.7566\n",
      "Epoch: 044, AUC: 0.7655, AP: 0.7564\n",
      "Epoch: 045, AUC: 0.7644, AP: 0.7558\n",
      "Epoch: 046, AUC: 0.7647, AP: 0.7564\n",
      "Epoch: 047, AUC: 0.7647, AP: 0.7562\n",
      "Epoch: 048, AUC: 0.7645, AP: 0.7560\n",
      "Epoch: 049, AUC: 0.7643, AP: 0.7566\n",
      "Epoch: 050, AUC: 0.7640, AP: 0.7570\n",
      "Epoch: 051, AUC: 0.7641, AP: 0.7567\n",
      "Epoch: 052, AUC: 0.7647, AP: 0.7569\n",
      "Epoch: 053, AUC: 0.7645, AP: 0.7563\n",
      "Epoch: 054, AUC: 0.7647, AP: 0.7565\n",
      "Epoch: 055, AUC: 0.7649, AP: 0.7565\n",
      "Epoch: 056, AUC: 0.7657, AP: 0.7570\n",
      "Epoch: 057, AUC: 0.7661, AP: 0.7576\n",
      "Epoch: 058, AUC: 0.7656, AP: 0.7579\n",
      "Epoch: 059, AUC: 0.7661, AP: 0.7583\n",
      "Epoch: 060, AUC: 0.7672, AP: 0.7591\n",
      "Epoch: 061, AUC: 0.7683, AP: 0.7596\n",
      "Epoch: 062, AUC: 0.7699, AP: 0.7610\n",
      "Epoch: 063, AUC: 0.7712, AP: 0.7622\n",
      "Epoch: 064, AUC: 0.7720, AP: 0.7630\n",
      "Epoch: 065, AUC: 0.7718, AP: 0.7629\n",
      "Epoch: 066, AUC: 0.7725, AP: 0.7634\n",
      "Epoch: 067, AUC: 0.7739, AP: 0.7648\n",
      "Epoch: 068, AUC: 0.7752, AP: 0.7658\n",
      "Epoch: 069, AUC: 0.7763, AP: 0.7665\n",
      "Epoch: 070, AUC: 0.7761, AP: 0.7667\n",
      "Epoch: 071, AUC: 0.7756, AP: 0.7664\n",
      "Epoch: 072, AUC: 0.7760, AP: 0.7667\n",
      "Epoch: 073, AUC: 0.7772, AP: 0.7677\n",
      "Epoch: 074, AUC: 0.7780, AP: 0.7681\n",
      "Epoch: 075, AUC: 0.7785, AP: 0.7686\n",
      "Epoch: 076, AUC: 0.7787, AP: 0.7688\n",
      "Epoch: 077, AUC: 0.7795, AP: 0.7695\n",
      "Epoch: 078, AUC: 0.7801, AP: 0.7700\n",
      "Epoch: 079, AUC: 0.7802, AP: 0.7702\n",
      "Epoch: 080, AUC: 0.7800, AP: 0.7705\n",
      "Epoch: 081, AUC: 0.7804, AP: 0.7710\n",
      "Epoch: 082, AUC: 0.7805, AP: 0.7711\n",
      "Epoch: 083, AUC: 0.7805, AP: 0.7712\n",
      "Epoch: 084, AUC: 0.7810, AP: 0.7717\n",
      "Epoch: 085, AUC: 0.7814, AP: 0.7722\n",
      "Epoch: 086, AUC: 0.7813, AP: 0.7721\n",
      "Epoch: 087, AUC: 0.7804, AP: 0.7716\n",
      "Epoch: 088, AUC: 0.7809, AP: 0.7720\n",
      "Epoch: 089, AUC: 0.7821, AP: 0.7729\n",
      "Epoch: 090, AUC: 0.7831, AP: 0.7737\n",
      "Epoch: 091, AUC: 0.7827, AP: 0.7735\n",
      "Epoch: 092, AUC: 0.7805, AP: 0.7719\n",
      "Epoch: 093, AUC: 0.7797, AP: 0.7711\n",
      "Epoch: 094, AUC: 0.7808, AP: 0.7720\n",
      "Epoch: 095, AUC: 0.7829, AP: 0.7738\n",
      "Epoch: 096, AUC: 0.7831, AP: 0.7739\n",
      "Epoch: 097, AUC: 0.7819, AP: 0.7728\n",
      "Epoch: 098, AUC: 0.7796, AP: 0.7708\n",
      "Epoch: 099, AUC: 0.7791, AP: 0.7704\n",
      "Epoch: 100, AUC: 0.7800, AP: 0.7709\n"
     ]
    }
   ],
   "source": [
    "for epoch in range(1, epochs + 1):\n",
    "    loss = train()\n",
    "    auc, ap = test(data.test_pos_edge_index, data.test_neg_edge_index)\n",
    "    print('Epoch: {:03d}, AUC: {:.4f}, AP: {:.4f}'.format(epoch, auc, ap))\n",
    "    \n",
    "    \n",
    "    writer.add_scalar('auc train',auc,epoch) # new line\n",
    "    writer.add_scalar('ap train',ap,epoch)   # new line"
   ]
  },
  {
   "cell_type": "code",
   "execution_count": 54,
   "metadata": {},
   "outputs": [
    {
     "name": "stdout",
     "output_type": "stream",
     "text": [
      "The tensorboard extension is already loaded. To reload it, use:\n",
      "  %reload_ext tensorboard\n"
     ]
    },
    {
     "data": {
      "text/plain": [
       "Reusing TensorBoard on port 6006 (pid 96762), started 0:06:23 ago. (Use '!kill 96762' to kill it.)"
      ]
     },
     "metadata": {},
     "output_type": "display_data"
    },
    {
     "data": {
      "text/html": [
       "\n",
       "      <iframe id=\"tensorboard-frame-6d42ffe1a04feb57\" width=\"100%\" height=\"800\" frameborder=\"0\">\n",
       "      </iframe>\n",
       "      <script>\n",
       "        (function() {\n",
       "          const frame = document.getElementById(\"tensorboard-frame-6d42ffe1a04feb57\");\n",
       "          const url = new URL(\"http://localhost\");\n",
       "          const port = 6006;\n",
       "          if (port) {\n",
       "            url.port = port;\n",
       "          }\n",
       "          frame.src = url;\n",
       "        })();\n",
       "      </script>\n",
       "    "
      ],
      "text/plain": [
       "<IPython.core.display.HTML object>"
      ]
     },
     "metadata": {},
     "output_type": "display_data"
    }
   ],
   "source": [
    "%load_ext tensorboard\n",
    "%tensorboard --logdir runs"
   ]
  },
  {
   "cell_type": "markdown",
   "metadata": {},
   "source": [
    "## Graph Variational AutoEncoder (GVAE)"
   ]
  },
  {
   "cell_type": "code",
   "execution_count": 55,
   "metadata": {},
   "outputs": [],
   "source": [
    "from torch_geometric.nn import VGAE"
   ]
  },
  {
   "cell_type": "code",
   "execution_count": 58,
   "metadata": {},
   "outputs": [
    {
     "name": "stderr",
     "output_type": "stream",
     "text": [
      "Downloading https://github.com/kimiyoung/planetoid/raw/master/data/ind.citeseer.x\n",
      "Downloading https://github.com/kimiyoung/planetoid/raw/master/data/ind.citeseer.tx\n",
      "Downloading https://github.com/kimiyoung/planetoid/raw/master/data/ind.citeseer.allx\n",
      "Downloading https://github.com/kimiyoung/planetoid/raw/master/data/ind.citeseer.y\n",
      "Downloading https://github.com/kimiyoung/planetoid/raw/master/data/ind.citeseer.ty\n",
      "Downloading https://github.com/kimiyoung/planetoid/raw/master/data/ind.citeseer.ally\n",
      "Downloading https://github.com/kimiyoung/planetoid/raw/master/data/ind.citeseer.graph\n",
      "Downloading https://github.com/kimiyoung/planetoid/raw/master/data/ind.citeseer.test.index\n",
      "Processing...\n",
      "Done!\n",
      "/home/abir/miniconda3/envs/pygdebias_env/lib/python3.9/site-packages/torch_geometric/deprecation.py:26: UserWarning: 'train_test_split_edges' is deprecated, use 'transforms.RandomLinkSplit' instead\n",
      "  warnings.warn(out)\n"
     ]
    }
   ],
   "source": [
    "dataset = Planetoid(\"dataset\", \"CiteSeer\", transform=T.NormalizeFeatures())\n",
    "data = dataset[0]\n",
    "data.train_mask = data.val_mask = data.test_mask = data.y = None\n",
    "data = train_test_split_edges(data)\n",
    "\n",
    "\n",
    "class VariationalGCNEncoder(torch.nn.Module):\n",
    "    def __init__(self, in_channels, out_channels):\n",
    "        super(VariationalGCNEncoder, self).__init__()\n",
    "        self.conv1 = GCNConv(in_channels, 2 * out_channels, cached=True) # cached only for transductive learning\n",
    "        self.conv_mu = GCNConv(2 * out_channels, out_channels, cached=True)\n",
    "        self.conv_logstd = GCNConv(2 * out_channels, out_channels, cached=True)\n",
    "\n",
    "    def forward(self, x, edge_index):\n",
    "        x = self.conv1(x, edge_index).relu()\n",
    "        return self.conv_mu(x, edge_index), self.conv_logstd(x, edge_index)"
   ]
  },
  {
   "cell_type": "code",
   "execution_count": 59,
   "metadata": {},
   "outputs": [],
   "source": [
    "out_channels = 2\n",
    "num_features = dataset.num_features\n",
    "epochs = 300\n",
    "\n",
    "\n",
    "model = VGAE(VariationalGCNEncoder(num_features, out_channels))  # new line\n",
    "\n",
    "device = torch.device('cuda' if torch.cuda.is_available() else 'cpu')\n",
    "model = model.to(device)\n",
    "x = data.x.to(device)\n",
    "train_pos_edge_index = data.train_pos_edge_index.to(device)\n",
    "optimizer = torch.optim.Adam(model.parameters(), lr=0.01)"
   ]
  },
  {
   "cell_type": "code",
   "execution_count": 60,
   "metadata": {},
   "outputs": [],
   "source": [
    "def train():\n",
    "    model.train()\n",
    "    optimizer.zero_grad()\n",
    "    z = model.encode(x, train_pos_edge_index)\n",
    "    loss = model.recon_loss(z, train_pos_edge_index)\n",
    "    \n",
    "    loss = loss + (1 / data.num_nodes) * model.kl_loss()  # new line\n",
    "    loss.backward()\n",
    "    optimizer.step()\n",
    "    return float(loss)\n",
    "\n",
    "\n",
    "def test(pos_edge_index, neg_edge_index):\n",
    "    model.eval()\n",
    "    with torch.no_grad():\n",
    "        z = model.encode(x, train_pos_edge_index)\n",
    "    return model.test(z, pos_edge_index, neg_edge_index)"
   ]
  },
  {
   "cell_type": "code",
   "execution_count": 61,
   "metadata": {
    "scrolled": true
   },
   "outputs": [
    {
     "name": "stdout",
     "output_type": "stream",
     "text": [
      "Epoch: 001, AUC: 0.6446, AP: 0.6615\n",
      "Epoch: 002, AUC: 0.6582, AP: 0.6720\n",
      "Epoch: 003, AUC: 0.6589, AP: 0.6733\n",
      "Epoch: 004, AUC: 0.6593, AP: 0.6747\n",
      "Epoch: 005, AUC: 0.6595, AP: 0.6752\n",
      "Epoch: 006, AUC: 0.6596, AP: 0.6754\n",
      "Epoch: 007, AUC: 0.6593, AP: 0.6752\n",
      "Epoch: 008, AUC: 0.6590, AP: 0.6750\n",
      "Epoch: 009, AUC: 0.6589, AP: 0.6748\n",
      "Epoch: 010, AUC: 0.6585, AP: 0.6742\n",
      "Epoch: 011, AUC: 0.6583, AP: 0.6739\n",
      "Epoch: 012, AUC: 0.6579, AP: 0.6735\n",
      "Epoch: 013, AUC: 0.6576, AP: 0.6733\n",
      "Epoch: 014, AUC: 0.6570, AP: 0.6729\n",
      "Epoch: 015, AUC: 0.6567, AP: 0.6726\n",
      "Epoch: 016, AUC: 0.6561, AP: 0.6721\n",
      "Epoch: 017, AUC: 0.6555, AP: 0.6717\n",
      "Epoch: 018, AUC: 0.6549, AP: 0.6712\n",
      "Epoch: 019, AUC: 0.6542, AP: 0.6710\n",
      "Epoch: 020, AUC: 0.6534, AP: 0.6703\n",
      "Epoch: 021, AUC: 0.6531, AP: 0.6704\n",
      "Epoch: 022, AUC: 0.6527, AP: 0.6703\n",
      "Epoch: 023, AUC: 0.6525, AP: 0.6702\n",
      "Epoch: 024, AUC: 0.6527, AP: 0.6704\n",
      "Epoch: 025, AUC: 0.6531, AP: 0.6709\n",
      "Epoch: 026, AUC: 0.6537, AP: 0.6718\n",
      "Epoch: 027, AUC: 0.6544, AP: 0.6725\n",
      "Epoch: 028, AUC: 0.6551, AP: 0.6734\n",
      "Epoch: 029, AUC: 0.6561, AP: 0.6742\n",
      "Epoch: 030, AUC: 0.6570, AP: 0.6755\n",
      "Epoch: 031, AUC: 0.6577, AP: 0.6764\n",
      "Epoch: 032, AUC: 0.6584, AP: 0.6773\n",
      "Epoch: 033, AUC: 0.6591, AP: 0.6783\n",
      "Epoch: 034, AUC: 0.6595, AP: 0.6789\n",
      "Epoch: 035, AUC: 0.6599, AP: 0.6795\n",
      "Epoch: 036, AUC: 0.6604, AP: 0.6804\n",
      "Epoch: 037, AUC: 0.6604, AP: 0.6811\n",
      "Epoch: 038, AUC: 0.6604, AP: 0.6814\n",
      "Epoch: 039, AUC: 0.6607, AP: 0.6822\n",
      "Epoch: 040, AUC: 0.6608, AP: 0.6828\n",
      "Epoch: 041, AUC: 0.6609, AP: 0.6835\n",
      "Epoch: 042, AUC: 0.6608, AP: 0.6840\n",
      "Epoch: 043, AUC: 0.6609, AP: 0.6848\n",
      "Epoch: 044, AUC: 0.6604, AP: 0.6854\n",
      "Epoch: 045, AUC: 0.6604, AP: 0.6862\n",
      "Epoch: 046, AUC: 0.6605, AP: 0.6873\n",
      "Epoch: 047, AUC: 0.6603, AP: 0.6882\n",
      "Epoch: 048, AUC: 0.6601, AP: 0.6890\n",
      "Epoch: 049, AUC: 0.6597, AP: 0.6899\n",
      "Epoch: 050, AUC: 0.6595, AP: 0.6910\n",
      "Epoch: 051, AUC: 0.6588, AP: 0.6914\n",
      "Epoch: 052, AUC: 0.6584, AP: 0.6921\n",
      "Epoch: 053, AUC: 0.6581, AP: 0.6928\n",
      "Epoch: 054, AUC: 0.6577, AP: 0.6935\n",
      "Epoch: 055, AUC: 0.6573, AP: 0.6941\n",
      "Epoch: 056, AUC: 0.6570, AP: 0.6948\n",
      "Epoch: 057, AUC: 0.6564, AP: 0.6956\n",
      "Epoch: 058, AUC: 0.6558, AP: 0.6962\n",
      "Epoch: 059, AUC: 0.6552, AP: 0.6974\n",
      "Epoch: 060, AUC: 0.6545, AP: 0.6979\n",
      "Epoch: 061, AUC: 0.6538, AP: 0.6984\n",
      "Epoch: 062, AUC: 0.6535, AP: 0.6992\n",
      "Epoch: 063, AUC: 0.6528, AP: 0.7004\n",
      "Epoch: 064, AUC: 0.6525, AP: 0.7013\n",
      "Epoch: 065, AUC: 0.6518, AP: 0.7019\n",
      "Epoch: 066, AUC: 0.6516, AP: 0.7025\n",
      "Epoch: 067, AUC: 0.6518, AP: 0.7032\n",
      "Epoch: 068, AUC: 0.6520, AP: 0.7038\n",
      "Epoch: 069, AUC: 0.6522, AP: 0.7043\n",
      "Epoch: 070, AUC: 0.6525, AP: 0.7050\n",
      "Epoch: 071, AUC: 0.6528, AP: 0.7058\n",
      "Epoch: 072, AUC: 0.6532, AP: 0.7066\n",
      "Epoch: 073, AUC: 0.6538, AP: 0.7074\n",
      "Epoch: 074, AUC: 0.6547, AP: 0.7083\n",
      "Epoch: 075, AUC: 0.6559, AP: 0.7088\n",
      "Epoch: 076, AUC: 0.6574, AP: 0.7097\n",
      "Epoch: 077, AUC: 0.6592, AP: 0.7108\n",
      "Epoch: 078, AUC: 0.6610, AP: 0.7118\n",
      "Epoch: 079, AUC: 0.6639, AP: 0.7130\n",
      "Epoch: 080, AUC: 0.6678, AP: 0.7147\n",
      "Epoch: 081, AUC: 0.6712, AP: 0.7163\n",
      "Epoch: 082, AUC: 0.6755, AP: 0.7181\n",
      "Epoch: 083, AUC: 0.6809, AP: 0.7205\n",
      "Epoch: 084, AUC: 0.6870, AP: 0.7233\n",
      "Epoch: 085, AUC: 0.6937, AP: 0.7264\n",
      "Epoch: 086, AUC: 0.6993, AP: 0.7292\n",
      "Epoch: 087, AUC: 0.7035, AP: 0.7317\n",
      "Epoch: 088, AUC: 0.7083, AP: 0.7344\n",
      "Epoch: 089, AUC: 0.7137, AP: 0.7378\n",
      "Epoch: 090, AUC: 0.7186, AP: 0.7410\n",
      "Epoch: 091, AUC: 0.7241, AP: 0.7443\n",
      "Epoch: 092, AUC: 0.7284, AP: 0.7468\n",
      "Epoch: 093, AUC: 0.7320, AP: 0.7493\n",
      "Epoch: 094, AUC: 0.7353, AP: 0.7517\n",
      "Epoch: 095, AUC: 0.7389, AP: 0.7544\n",
      "Epoch: 096, AUC: 0.7413, AP: 0.7566\n",
      "Epoch: 097, AUC: 0.7436, AP: 0.7584\n",
      "Epoch: 098, AUC: 0.7460, AP: 0.7602\n",
      "Epoch: 099, AUC: 0.7486, AP: 0.7622\n",
      "Epoch: 100, AUC: 0.7516, AP: 0.7643\n",
      "Epoch: 101, AUC: 0.7545, AP: 0.7666\n",
      "Epoch: 102, AUC: 0.7570, AP: 0.7686\n",
      "Epoch: 103, AUC: 0.7593, AP: 0.7707\n",
      "Epoch: 104, AUC: 0.7621, AP: 0.7730\n",
      "Epoch: 105, AUC: 0.7643, AP: 0.7750\n",
      "Epoch: 106, AUC: 0.7659, AP: 0.7765\n",
      "Epoch: 107, AUC: 0.7674, AP: 0.7780\n",
      "Epoch: 108, AUC: 0.7688, AP: 0.7792\n",
      "Epoch: 109, AUC: 0.7701, AP: 0.7804\n",
      "Epoch: 110, AUC: 0.7714, AP: 0.7814\n",
      "Epoch: 111, AUC: 0.7728, AP: 0.7828\n",
      "Epoch: 112, AUC: 0.7742, AP: 0.7841\n",
      "Epoch: 113, AUC: 0.7751, AP: 0.7853\n",
      "Epoch: 114, AUC: 0.7763, AP: 0.7866\n",
      "Epoch: 115, AUC: 0.7775, AP: 0.7881\n",
      "Epoch: 116, AUC: 0.7786, AP: 0.7893\n",
      "Epoch: 117, AUC: 0.7794, AP: 0.7903\n",
      "Epoch: 118, AUC: 0.7804, AP: 0.7912\n",
      "Epoch: 119, AUC: 0.7816, AP: 0.7925\n",
      "Epoch: 120, AUC: 0.7825, AP: 0.7931\n",
      "Epoch: 121, AUC: 0.7836, AP: 0.7940\n",
      "Epoch: 122, AUC: 0.7847, AP: 0.7947\n",
      "Epoch: 123, AUC: 0.7855, AP: 0.7957\n",
      "Epoch: 124, AUC: 0.7863, AP: 0.7966\n",
      "Epoch: 125, AUC: 0.7870, AP: 0.7974\n",
      "Epoch: 126, AUC: 0.7874, AP: 0.7984\n",
      "Epoch: 127, AUC: 0.7880, AP: 0.7988\n",
      "Epoch: 128, AUC: 0.7889, AP: 0.7995\n",
      "Epoch: 129, AUC: 0.7897, AP: 0.7999\n",
      "Epoch: 130, AUC: 0.7904, AP: 0.7998\n",
      "Epoch: 131, AUC: 0.7910, AP: 0.8002\n",
      "Epoch: 132, AUC: 0.7914, AP: 0.8010\n",
      "Epoch: 133, AUC: 0.7918, AP: 0.8019\n",
      "Epoch: 134, AUC: 0.7921, AP: 0.8025\n",
      "Epoch: 135, AUC: 0.7926, AP: 0.8029\n",
      "Epoch: 136, AUC: 0.7936, AP: 0.8034\n",
      "Epoch: 137, AUC: 0.7942, AP: 0.8029\n",
      "Epoch: 138, AUC: 0.7950, AP: 0.8031\n",
      "Epoch: 139, AUC: 0.7955, AP: 0.8033\n",
      "Epoch: 140, AUC: 0.7958, AP: 0.8035\n",
      "Epoch: 141, AUC: 0.7957, AP: 0.8039\n",
      "Epoch: 142, AUC: 0.7957, AP: 0.8045\n",
      "Epoch: 143, AUC: 0.7956, AP: 0.8046\n",
      "Epoch: 144, AUC: 0.7962, AP: 0.8049\n",
      "Epoch: 145, AUC: 0.7969, AP: 0.8052\n",
      "Epoch: 146, AUC: 0.7974, AP: 0.8051\n",
      "Epoch: 147, AUC: 0.7977, AP: 0.8047\n",
      "Epoch: 148, AUC: 0.7981, AP: 0.8050\n",
      "Epoch: 149, AUC: 0.7982, AP: 0.8053\n",
      "Epoch: 150, AUC: 0.7985, AP: 0.8060\n",
      "Epoch: 151, AUC: 0.7983, AP: 0.8060\n",
      "Epoch: 152, AUC: 0.7984, AP: 0.8061\n",
      "Epoch: 153, AUC: 0.7988, AP: 0.8062\n",
      "Epoch: 154, AUC: 0.7991, AP: 0.8063\n",
      "Epoch: 155, AUC: 0.7994, AP: 0.8065\n",
      "Epoch: 156, AUC: 0.8001, AP: 0.8068\n",
      "Epoch: 157, AUC: 0.8003, AP: 0.8069\n",
      "Epoch: 158, AUC: 0.8003, AP: 0.8069\n",
      "Epoch: 159, AUC: 0.8004, AP: 0.8073\n",
      "Epoch: 160, AUC: 0.8001, AP: 0.8073\n",
      "Epoch: 161, AUC: 0.7998, AP: 0.8071\n",
      "Epoch: 162, AUC: 0.8000, AP: 0.8071\n",
      "Epoch: 163, AUC: 0.8004, AP: 0.8070\n",
      "Epoch: 164, AUC: 0.8007, AP: 0.8072\n",
      "Epoch: 165, AUC: 0.8004, AP: 0.8072\n",
      "Epoch: 166, AUC: 0.8004, AP: 0.8071\n",
      "Epoch: 167, AUC: 0.8003, AP: 0.8071\n",
      "Epoch: 168, AUC: 0.8004, AP: 0.8072\n",
      "Epoch: 169, AUC: 0.8004, AP: 0.8075\n",
      "Epoch: 170, AUC: 0.8000, AP: 0.8073\n",
      "Epoch: 171, AUC: 0.7999, AP: 0.8073\n",
      "Epoch: 172, AUC: 0.8000, AP: 0.8073\n",
      "Epoch: 173, AUC: 0.8002, AP: 0.8071\n",
      "Epoch: 174, AUC: 0.8001, AP: 0.8069\n",
      "Epoch: 175, AUC: 0.8002, AP: 0.8066\n",
      "Epoch: 176, AUC: 0.8000, AP: 0.8064\n",
      "Epoch: 177, AUC: 0.7997, AP: 0.8061\n",
      "Epoch: 178, AUC: 0.7994, AP: 0.8058\n",
      "Epoch: 179, AUC: 0.7992, AP: 0.8058\n",
      "Epoch: 180, AUC: 0.7990, AP: 0.8055\n",
      "Epoch: 181, AUC: 0.7990, AP: 0.8052\n",
      "Epoch: 182, AUC: 0.7990, AP: 0.8051\n",
      "Epoch: 183, AUC: 0.7989, AP: 0.8050\n",
      "Epoch: 184, AUC: 0.7989, AP: 0.8050\n",
      "Epoch: 185, AUC: 0.7987, AP: 0.8049\n",
      "Epoch: 186, AUC: 0.7985, AP: 0.8046\n",
      "Epoch: 187, AUC: 0.7987, AP: 0.8047\n",
      "Epoch: 188, AUC: 0.7988, AP: 0.8046\n",
      "Epoch: 189, AUC: 0.7986, AP: 0.8044\n",
      "Epoch: 190, AUC: 0.7982, AP: 0.8042\n",
      "Epoch: 191, AUC: 0.7980, AP: 0.8040\n",
      "Epoch: 192, AUC: 0.7981, AP: 0.8041\n",
      "Epoch: 193, AUC: 0.7980, AP: 0.8039\n",
      "Epoch: 194, AUC: 0.7983, AP: 0.8041\n",
      "Epoch: 195, AUC: 0.7986, AP: 0.8042\n",
      "Epoch: 196, AUC: 0.7985, AP: 0.8040\n",
      "Epoch: 197, AUC: 0.7983, AP: 0.8038\n",
      "Epoch: 198, AUC: 0.7981, AP: 0.8037\n",
      "Epoch: 199, AUC: 0.7980, AP: 0.8035\n",
      "Epoch: 200, AUC: 0.7980, AP: 0.8033\n",
      "Epoch: 201, AUC: 0.7981, AP: 0.8031\n",
      "Epoch: 202, AUC: 0.7981, AP: 0.8030\n",
      "Epoch: 203, AUC: 0.7981, AP: 0.8029\n",
      "Epoch: 204, AUC: 0.7980, AP: 0.8027\n",
      "Epoch: 205, AUC: 0.7976, AP: 0.8025\n",
      "Epoch: 206, AUC: 0.7972, AP: 0.8024\n",
      "Epoch: 207, AUC: 0.7971, AP: 0.8025\n",
      "Epoch: 208, AUC: 0.7970, AP: 0.8021\n",
      "Epoch: 209, AUC: 0.7972, AP: 0.8019\n",
      "Epoch: 210, AUC: 0.7973, AP: 0.8017\n",
      "Epoch: 211, AUC: 0.7972, AP: 0.8014\n",
      "Epoch: 212, AUC: 0.7969, AP: 0.8012\n",
      "Epoch: 213, AUC: 0.7967, AP: 0.8013\n",
      "Epoch: 214, AUC: 0.7966, AP: 0.8015\n",
      "Epoch: 215, AUC: 0.7962, AP: 0.8012\n",
      "Epoch: 216, AUC: 0.7964, AP: 0.8011\n",
      "Epoch: 217, AUC: 0.7965, AP: 0.8008\n",
      "Epoch: 218, AUC: 0.7967, AP: 0.8007\n",
      "Epoch: 219, AUC: 0.7967, AP: 0.8006\n",
      "Epoch: 220, AUC: 0.7963, AP: 0.8005\n",
      "Epoch: 221, AUC: 0.7959, AP: 0.8005\n",
      "Epoch: 222, AUC: 0.7958, AP: 0.8003\n",
      "Epoch: 223, AUC: 0.7959, AP: 0.8000\n",
      "Epoch: 224, AUC: 0.7959, AP: 0.7997\n",
      "Epoch: 225, AUC: 0.7958, AP: 0.7994\n",
      "Epoch: 226, AUC: 0.7957, AP: 0.7994\n",
      "Epoch: 227, AUC: 0.7952, AP: 0.7993\n",
      "Epoch: 228, AUC: 0.7949, AP: 0.7991\n",
      "Epoch: 229, AUC: 0.7948, AP: 0.7989\n",
      "Epoch: 230, AUC: 0.7947, AP: 0.7987\n",
      "Epoch: 231, AUC: 0.7948, AP: 0.7985\n",
      "Epoch: 232, AUC: 0.7946, AP: 0.7980\n",
      "Epoch: 233, AUC: 0.7945, AP: 0.7978\n",
      "Epoch: 234, AUC: 0.7943, AP: 0.7977\n",
      "Epoch: 235, AUC: 0.7942, AP: 0.7980\n",
      "Epoch: 236, AUC: 0.7940, AP: 0.7978\n",
      "Epoch: 237, AUC: 0.7939, AP: 0.7976\n",
      "Epoch: 238, AUC: 0.7939, AP: 0.7974\n",
      "Epoch: 239, AUC: 0.7936, AP: 0.7968\n",
      "Epoch: 240, AUC: 0.7935, AP: 0.7969\n",
      "Epoch: 241, AUC: 0.7933, AP: 0.7967\n",
      "Epoch: 242, AUC: 0.7933, AP: 0.7969\n",
      "Epoch: 243, AUC: 0.7932, AP: 0.7968\n",
      "Epoch: 244, AUC: 0.7931, AP: 0.7968\n",
      "Epoch: 245, AUC: 0.7930, AP: 0.7967\n",
      "Epoch: 246, AUC: 0.7929, AP: 0.7966\n",
      "Epoch: 247, AUC: 0.7926, AP: 0.7964\n",
      "Epoch: 248, AUC: 0.7927, AP: 0.7962\n",
      "Epoch: 249, AUC: 0.7924, AP: 0.7960\n",
      "Epoch: 250, AUC: 0.7923, AP: 0.7962\n",
      "Epoch: 251, AUC: 0.7922, AP: 0.7962\n",
      "Epoch: 252, AUC: 0.7921, AP: 0.7960\n",
      "Epoch: 253, AUC: 0.7917, AP: 0.7957\n",
      "Epoch: 254, AUC: 0.7916, AP: 0.7955\n",
      "Epoch: 255, AUC: 0.7913, AP: 0.7954\n",
      "Epoch: 256, AUC: 0.7912, AP: 0.7953\n",
      "Epoch: 257, AUC: 0.7913, AP: 0.7956\n",
      "Epoch: 258, AUC: 0.7912, AP: 0.7957\n",
      "Epoch: 259, AUC: 0.7910, AP: 0.7954\n",
      "Epoch: 260, AUC: 0.7908, AP: 0.7954\n",
      "Epoch: 261, AUC: 0.7906, AP: 0.7955\n",
      "Epoch: 262, AUC: 0.7904, AP: 0.7952\n",
      "Epoch: 263, AUC: 0.7902, AP: 0.7949\n",
      "Epoch: 264, AUC: 0.7902, AP: 0.7948\n",
      "Epoch: 265, AUC: 0.7901, AP: 0.7948\n",
      "Epoch: 266, AUC: 0.7899, AP: 0.7948\n",
      "Epoch: 267, AUC: 0.7897, AP: 0.7945\n",
      "Epoch: 268, AUC: 0.7892, AP: 0.7943\n",
      "Epoch: 269, AUC: 0.7891, AP: 0.7940\n",
      "Epoch: 270, AUC: 0.7888, AP: 0.7937\n",
      "Epoch: 271, AUC: 0.7888, AP: 0.7937\n",
      "Epoch: 272, AUC: 0.7888, AP: 0.7937\n",
      "Epoch: 273, AUC: 0.7889, AP: 0.7935\n",
      "Epoch: 274, AUC: 0.7890, AP: 0.7936\n",
      "Epoch: 275, AUC: 0.7887, AP: 0.7933\n",
      "Epoch: 276, AUC: 0.7886, AP: 0.7934\n",
      "Epoch: 277, AUC: 0.7883, AP: 0.7932\n",
      "Epoch: 278, AUC: 0.7883, AP: 0.7931\n",
      "Epoch: 279, AUC: 0.7882, AP: 0.7931\n",
      "Epoch: 280, AUC: 0.7882, AP: 0.7930\n",
      "Epoch: 281, AUC: 0.7882, AP: 0.7930\n",
      "Epoch: 282, AUC: 0.7879, AP: 0.7928\n",
      "Epoch: 283, AUC: 0.7877, AP: 0.7925\n",
      "Epoch: 284, AUC: 0.7877, AP: 0.7925\n",
      "Epoch: 285, AUC: 0.7880, AP: 0.7926\n",
      "Epoch: 286, AUC: 0.7879, AP: 0.7923\n",
      "Epoch: 287, AUC: 0.7878, AP: 0.7923\n",
      "Epoch: 288, AUC: 0.7870, AP: 0.7919\n",
      "Epoch: 289, AUC: 0.7867, AP: 0.7917\n",
      "Epoch: 290, AUC: 0.7870, AP: 0.7918\n",
      "Epoch: 291, AUC: 0.7871, AP: 0.7919\n",
      "Epoch: 292, AUC: 0.7868, AP: 0.7917\n",
      "Epoch: 293, AUC: 0.7868, AP: 0.7917\n",
      "Epoch: 294, AUC: 0.7866, AP: 0.7916\n",
      "Epoch: 295, AUC: 0.7866, AP: 0.7916\n",
      "Epoch: 296, AUC: 0.7865, AP: 0.7915\n",
      "Epoch: 297, AUC: 0.7863, AP: 0.7914\n",
      "Epoch: 298, AUC: 0.7861, AP: 0.7914\n",
      "Epoch: 299, AUC: 0.7861, AP: 0.7915\n",
      "Epoch: 300, AUC: 0.7864, AP: 0.7917\n"
     ]
    }
   ],
   "source": [
    "writer = SummaryWriter('runs/VGAE_experiment_'+'2d_100_epochs')\n",
    "\n",
    "for epoch in range(1, epochs + 1):\n",
    "    loss = train()\n",
    "    auc, ap = test(data.test_pos_edge_index, data.test_neg_edge_index)\n",
    "    print('Epoch: {:03d}, AUC: {:.4f}, AP: {:.4f}'.format(epoch, auc, ap))\n",
    "    \n",
    "    \n",
    "    writer.add_scalar('auc train',auc,epoch) # new line\n",
    "    writer.add_scalar('ap train',ap,epoch)   # new line"
   ]
  },
  {
   "cell_type": "code",
   "execution_count": 62,
   "metadata": {},
   "outputs": [
    {
     "name": "stdout",
     "output_type": "stream",
     "text": [
      "The tensorboard extension is already loaded. To reload it, use:\n",
      "  %reload_ext tensorboard\n"
     ]
    },
    {
     "data": {
      "text/plain": [
       "Reusing TensorBoard on port 6006 (pid 96762), started 2:23:35 ago. (Use '!kill 96762' to kill it.)"
      ]
     },
     "metadata": {},
     "output_type": "display_data"
    },
    {
     "data": {
      "text/html": [
       "\n",
       "      <iframe id=\"tensorboard-frame-496f01b4e246459c\" width=\"100%\" height=\"800\" frameborder=\"0\">\n",
       "      </iframe>\n",
       "      <script>\n",
       "        (function() {\n",
       "          const frame = document.getElementById(\"tensorboard-frame-496f01b4e246459c\");\n",
       "          const url = new URL(\"http://localhost\");\n",
       "          const port = 6006;\n",
       "          if (port) {\n",
       "            url.port = port;\n",
       "          }\n",
       "          frame.src = url;\n",
       "        })();\n",
       "      </script>\n",
       "    "
      ],
      "text/plain": [
       "<IPython.core.display.HTML object>"
      ]
     },
     "metadata": {},
     "output_type": "display_data"
    }
   ],
   "source": [
    "%load_ext tensorboard\n",
    "%tensorboard --logdir runs"
   ]
  },
  {
   "cell_type": "code",
   "execution_count": null,
   "metadata": {},
   "outputs": [],
   "source": []
  }
 ],
 "metadata": {
  "kernelspec": {
   "display_name": "pygdebias_env",
   "language": "python",
   "name": "python3"
  },
  "language_info": {
   "codemirror_mode": {
    "name": "ipython",
    "version": 3
   },
   "file_extension": ".py",
   "mimetype": "text/x-python",
   "name": "python",
   "nbconvert_exporter": "python",
   "pygments_lexer": "ipython3",
   "version": "3.9.20"
  }
 },
 "nbformat": 4,
 "nbformat_minor": 4
}
