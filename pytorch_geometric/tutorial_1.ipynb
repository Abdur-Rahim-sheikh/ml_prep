{
 "cells": [
  {
   "cell_type": "markdown",
   "metadata": {},
   "source": [
    "## following this [tutorial](https://www.youtube.com/playlist?list=PLxYC9c7VtjHT2uGV1_5zz6WgavvN_8Yql) by Antonio Longa"
   ]
  },
  {
   "cell_type": "code",
   "execution_count": 1,
   "metadata": {},
   "outputs": [],
   "source": [
    "# !pip install torch-geometric\n",
    "# !pip install numpy==1.23.5"
   ]
  },
  {
   "cell_type": "code",
   "execution_count": 1,
   "metadata": {},
   "outputs": [
    {
     "name": "stderr",
     "output_type": "stream",
     "text": [
      "/home/abir/miniconda3/envs/pygdebias_env/lib/python3.9/site-packages/tqdm/auto.py:21: TqdmWarning: IProgress not found. Please update jupyter and ipywidgets. See https://ipywidgets.readthedocs.io/en/stable/user_install.html\n",
      "  from .autonotebook import tqdm as notebook_tqdm\n",
      "/home/abir/miniconda3/envs/pygdebias_env/lib/python3.9/site-packages/torch/cuda/__init__.py:83: UserWarning: CUDA initialization: CUDA unknown error - this may be due to an incorrectly set up environment, e.g. changing env variable CUDA_VISIBLE_DEVICES after program start. Setting the available devices to be zero. (Triggered internally at  ../c10/cuda/CUDAFunctions.cpp:109.)\n",
      "  return torch._C._cuda_getDeviceCount() > 0\n"
     ]
    }
   ],
   "source": [
    "import torch_geometric\n",
    "from torch_geometric.datasets import Planetoid"
   ]
  },
  {
   "cell_type": "code",
   "execution_count": 3,
   "metadata": {},
   "outputs": [
    {
     "name": "stderr",
     "output_type": "stream",
     "text": [
      "Downloading https://github.com/kimiyoung/planetoid/raw/master/data/ind.cora.x\n",
      "Downloading https://github.com/kimiyoung/planetoid/raw/master/data/ind.cora.tx\n",
      "Downloading https://github.com/kimiyoung/planetoid/raw/master/data/ind.cora.allx\n",
      "Downloading https://github.com/kimiyoung/planetoid/raw/master/data/ind.cora.y\n",
      "Downloading https://github.com/kimiyoung/planetoid/raw/master/data/ind.cora.ty\n",
      "Downloading https://github.com/kimiyoung/planetoid/raw/master/data/ind.cora.ally\n",
      "Downloading https://github.com/kimiyoung/planetoid/raw/master/data/ind.cora.graph\n",
      "Downloading https://github.com/kimiyoung/planetoid/raw/master/data/ind.cora.test.index\n",
      "Processing...\n",
      "Done!\n"
     ]
    }
   ],
   "source": [
    "import shutil\n",
    "shutil.rmtree('dataset', ignore_errors=True)\n",
    "dataset = Planetoid(root='dataset', name='Cora')"
   ]
  },
  {
   "cell_type": "code",
   "execution_count": 4,
   "metadata": {},
   "outputs": [
    {
     "name": "stdout",
     "output_type": "stream",
     "text": [
      "Cora()\n",
      "number of grpahs: 1\n",
      "number of classes: 7\n",
      "number of node features: 1433\n",
      "number of edge features: 0\n"
     ]
    }
   ],
   "source": [
    "print(dataset)\n",
    "print(f\"number of grpahs: {len(dataset)}\")\n",
    "print(f\"number of classes: {dataset.num_classes}\")\n",
    "print(f\"number of node features: {dataset.num_node_features}\")\n",
    "print(f\"number of edge features: {dataset.num_edge_features}\")"
   ]
  },
  {
   "cell_type": "code",
   "execution_count": 6,
   "metadata": {},
   "outputs": [
    {
     "name": "stdout",
     "output_type": "stream",
     "text": [
      "Data(x=[2708, 1433], edge_index=[2, 10556], y=[2708], train_mask=[2708], val_mask=[2708], test_mask=[2708])\n"
     ]
    },
    {
     "name": "stderr",
     "output_type": "stream",
     "text": [
      "/home/abir/miniconda3/envs/pygdebias_env/lib/python3.9/site-packages/torch_geometric/data/in_memory_dataset.py:300: UserWarning: It is not recommended to directly access the internal storage format `data` of an 'InMemoryDataset'. If you are absolutely certain what you are doing, access the internal storage via `InMemoryDataset._data` instead to suppress this warning. Alternatively, you can access stacked individual attributes of every graph via `dataset.{attr_name}`.\n",
      "  warnings.warn(msg)\n"
     ]
    }
   ],
   "source": [
    "print(dataset.data)"
   ]
  },
  {
   "cell_type": "code",
   "execution_count": 4,
   "metadata": {},
   "outputs": [],
   "source": [
    "import os.path as osp\n",
    "import torch\n",
    "import torch.nn.functional as F\n",
    "from torch_geometric.nn import SAGEConv"
   ]
  },
  {
   "cell_type": "code",
   "execution_count": 5,
   "metadata": {},
   "outputs": [],
   "source": [
    "data = dataset[0]"
   ]
  },
  {
   "cell_type": "code",
   "execution_count": 10,
   "metadata": {},
   "outputs": [],
   "source": [
    "class Net(torch.nn.Module):\n",
    "    def __init__(self):\n",
    "        super(Net, self).__init__()\n",
    "        self.conv = SAGEConv(\n",
    "            dataset.num_node_features, \n",
    "            dataset.num_classes,\n",
    "            aggr=\"mean\"\n",
    "        )\n",
    "    \n",
    "    def forward(self):\n",
    "        x = self.conv(data.x, data.edge_index)\n",
    "        return F.log_softmax(x, dim=1)\n",
    "        "
   ]
  },
  {
   "cell_type": "code",
   "execution_count": 11,
   "metadata": {},
   "outputs": [
    {
     "name": "stdout",
     "output_type": "stream",
     "text": [
      "Net(\n",
      "  (conv): SAGEConv(1433, 7, aggr=mean)\n",
      ")\n"
     ]
    }
   ],
   "source": [
    "device = torch.device('cuda' if torch.cuda.is_available() else 'cpu')\n",
    "model, data = Net().to(device), data.to(device)\n",
    "print(model)\n",
    "optimizer = torch.optim.Adam(model.parameters(), lr=0.01, weight_decay=5e-4)"
   ]
  },
  {
   "cell_type": "code",
   "execution_count": 12,
   "metadata": {},
   "outputs": [],
   "source": [
    "def train():\n",
    "    model.train()\n",
    "    optimizer.zero_grad()\n",
    "    F.nll_loss(model()[data.train_mask], data.y[data.train_mask]).backward()\n",
    "    optimizer.step()\n",
    "\n",
    "def test():\n",
    "    model.eval()\n",
    "    logits = model()\n",
    "    accs = []\n",
    "    for _, mask in data('train_mask', 'val_mask', 'test_mask'):\n",
    "        # logits is the matrix of prediction, max(1) is max values of each row\n",
    "        # where [0] is the max value and [1] is the index of the max value\n",
    "        # we need the index\n",
    "        pred = logits[mask].max(1)[1]\n",
    "        acc = pred.eq(data.y[mask]).sum().item() / mask.sum().item()\n",
    "        accs.append(acc)\n",
    "    return accs"
   ]
  },
  {
   "cell_type": "code",
   "execution_count": 13,
   "metadata": {},
   "outputs": [
    {
     "name": "stdout",
     "output_type": "stream",
     "text": [
      "Epoch: 010, Train: 1.0000, Val: 0.7020, Test: 0.6920\n",
      "Epoch: 020, Train: 1.0000, Val: 0.7060, Test: 0.6970\n",
      "Epoch: 030, Train: 1.0000, Val: 0.7100, Test: 0.6980\n",
      "Epoch: 040, Train: 1.0000, Val: 0.7100, Test: 0.6980\n",
      "Epoch: 050, Train: 1.0000, Val: 0.7100, Test: 0.6980\n",
      "Epoch: 060, Train: 1.0000, Val: 0.7100, Test: 0.6980\n",
      "Epoch: 070, Train: 1.0000, Val: 0.7100, Test: 0.6980\n",
      "Epoch: 080, Train: 1.0000, Val: 0.7100, Test: 0.6980\n",
      "Epoch: 090, Train: 1.0000, Val: 0.7100, Test: 0.6980\n",
      "Epoch: 100, Train: 1.0000, Val: 0.7100, Test: 0.6980\n"
     ]
    }
   ],
   "source": [
    "best_val_acc = test_acc = 0\n",
    "for epoch in range(1, 101):\n",
    "    train()\n",
    "    train_acc, val_acc, tmp_test_acc = test()\n",
    "    if val_acc > best_val_acc:\n",
    "        best_val_acc = val_acc\n",
    "        test_acc = tmp_test_acc\n",
    "    log = 'Epoch: {:03d}, Train: {:.4f}, Val: {:.4f}, Test: {:.4f}'\n",
    "    \n",
    "    if epoch %10 == 0:\n",
    "        print(log.format(epoch, train_acc, best_val_acc, test_acc))"
   ]
  },
  {
   "cell_type": "code",
   "execution_count": null,
   "metadata": {},
   "outputs": [],
   "source": [
    "# logit_test = torch.tensor([[-1.8548, -2.0164, -2.1502, -1.2583, -2.1891, -2.4928, -2.1620],\n",
    "#         [-1.8982, -2.3488, -2.5499, -2.5410, -0.8000, -2.5723, -2.6296],\n",
    "#         [-2.1271, -2.2625, -2.4186, -2.0720, -0.7592, -3.1187, -3.0062],\n",
    "#         [-1.3485, -2.2051, -2.3010, -1.9492, -1.9506, -2.1094, -2.0867],\n",
    "#         [-1.9191, -2.0882, -2.0980, -1.2640, -2.3010, -2.0158, -2.3994],\n",
    "#         [-2.2554, -1.8900, -1.1128, -2.3015, -2.0933, -2.2566, -2.4378],\n",
    "#         [-0.6369, -2.6020, -2.8973, -2.3186, -2.3167, -3.0402, -2.3337],\n",
    "#         [-1.9804, -1.9747, -2.0719, -1.5227, -2.1657, -1.9063, -2.1557],\n",
    "#         [-2.0575, -2.2312, -1.9879, -1.0392, -2.5695, -2.2915, -2.3388],\n",
    "#         [-2.0393, -2.0483, -1.4946, -2.2027, -2.2632, -1.8696, -1.9113],\n",
    "#         [-1.2351, -1.7037, -2.3899, -2.2105, -2.0271, -2.4124, -2.2578],\n",
    "#         [-1.0761, -2.2022, -2.1459, -2.1235, -2.1427, -2.5047, -2.1812]])\n",
    "# logit_test.max(1)"
   ]
  },
  {
   "cell_type": "code",
   "execution_count": null,
   "metadata": {},
   "outputs": [
    {
     "data": {
      "text/plain": [
       "tensor([3, 4, 4, 0, 3, 2, 0, 3, 3, 2, 0, 0])"
      ]
     },
     "execution_count": 22,
     "metadata": {},
     "output_type": "execute_result"
    }
   ],
   "source": []
  },
  {
   "cell_type": "code",
   "execution_count": null,
   "metadata": {},
   "outputs": [],
   "source": []
  }
 ],
 "metadata": {
  "kernelspec": {
   "display_name": "pygdebias_env",
   "language": "python",
   "name": "python3"
  },
  "language_info": {
   "codemirror_mode": {
    "name": "ipython",
    "version": 3
   },
   "file_extension": ".py",
   "mimetype": "text/x-python",
   "name": "python",
   "nbconvert_exporter": "python",
   "pygments_lexer": "ipython3",
   "version": "3.9.20"
  }
 },
 "nbformat": 4,
 "nbformat_minor": 2
}
