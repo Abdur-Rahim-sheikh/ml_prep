{
 "cells": [
  {
   "cell_type": "code",
   "execution_count": 1,
   "metadata": {},
   "outputs": [
    {
     "name": "stderr",
     "output_type": "stream",
     "text": [
      "/home/abir/miniconda3/envs/pygdebias_env/lib/python3.9/site-packages/tqdm/auto.py:22: TqdmWarning: IProgress not found. Please update jupyter and ipywidgets. See https://ipywidgets.readthedocs.io/en/stable/user_install.html\n",
      "  from .autonotebook import tqdm as notebook_tqdm\n"
     ]
    }
   ],
   "source": [
    "import torch\n",
    "from torch_geometric.data import Data"
   ]
  },
  {
   "cell_type": "code",
   "execution_count": 9,
   "metadata": {},
   "outputs": [],
   "source": [
    "# this will form a triangle\n",
    "edge_index = torch.tensor([[0,1,2],[1,2,0]],dtype=torch.long)\n",
    "\n",
    "# let's each node has a 2 dimensional feature\n",
    "x = torch.tensor([[1,2],[2,3],[3,4]],dtype=torch.float)\n",
    "\n",
    "# let's we have a single graph level classification\n",
    "y = torch.tensor([1],dtype=torch.float)"
   ]
  },
  {
   "cell_type": "code",
   "execution_count": 10,
   "metadata": {},
   "outputs": [
    {
     "name": "stdout",
     "output_type": "stream",
     "text": [
      "Data(x=[3, 2], edge_index=[2, 3], y=[1])\n"
     ]
    }
   ],
   "source": [
    "data = Data(x=x, edge_index=edge_index, y=y)\n",
    "print(data)"
   ]
  },
  {
   "cell_type": "markdown",
   "metadata": {},
   "source": [
    "## Load previous dataset"
   ]
  },
  {
   "cell_type": "code",
   "execution_count": 12,
   "metadata": {},
   "outputs": [
    {
     "name": "stdout",
     "output_type": "stream",
     "text": [
      "Data(x=[2708, 1433], edge_index=[2, 10556], y=[2708], train_mask=[2708], val_mask=[2708], test_mask=[2708])\n"
     ]
    }
   ],
   "source": [
    "from torch_geometric.datasets import Planetoid\n",
    "\n",
    "dataset = Planetoid(root='dataset', name='Cora')\n",
    "data = dataset[0]  # There's usually only one graph in citation datasets\n",
    "print(data)\n"
   ]
  },
  {
   "cell_type": "code",
   "execution_count": null,
   "metadata": {},
   "outputs": [],
   "source": [
    "import torch\n",
    "import torch.nn.functional as F\n",
    "from torch_geometric.nn import GCNConv\n",
    "\n",
    "class GCN(torch.nn.Module):\n",
    "    def __init__(self, in_channels, hidden_channels, out_channels):\n",
    "        super(GCN, self).__init__()\n",
    "        self.conv1 = GCNConv(in_channels, hidden_channels)\n",
    "        self.conv2 = GCNConv(hidden_channels, out_channels)\n",
    "\n",
    "    def forward(self, x, edge_index):\n",
    "        # First graph convolution + ReLU\n",
    "        x = self.conv1(x, edge_index)\n",
    "        x = F.relu(x)\n",
    "        # Second graph convolution\n",
    "        x = self.conv2(x, edge_index)\n",
    "        return x\n"
   ]
  },
  {
   "cell_type": "code",
   "execution_count": 14,
   "metadata": {},
   "outputs": [
    {
     "name": "stdout",
     "output_type": "stream",
     "text": [
      "Epoch: 010, Loss: 0.7504, Train: 0.9500, Val: 0.7200, Test: 0.7510\n",
      "Epoch: 020, Loss: 0.1528, Train: 1.0000, Val: 0.7760, Test: 0.7900\n",
      "Epoch: 030, Loss: 0.0365, Train: 1.0000, Val: 0.7740, Test: 0.7860\n",
      "Epoch: 040, Loss: 0.0170, Train: 1.0000, Val: 0.7760, Test: 0.7880\n",
      "Epoch: 050, Loss: 0.0140, Train: 1.0000, Val: 0.7680, Test: 0.7880\n",
      "Epoch: 060, Loss: 0.0149, Train: 1.0000, Val: 0.7720, Test: 0.7900\n",
      "Epoch: 070, Loss: 0.0166, Train: 1.0000, Val: 0.7720, Test: 0.7870\n",
      "Epoch: 080, Loss: 0.0174, Train: 1.0000, Val: 0.7740, Test: 0.7950\n",
      "Epoch: 090, Loss: 0.0171, Train: 1.0000, Val: 0.7740, Test: 0.7920\n",
      "Epoch: 100, Loss: 0.0162, Train: 1.0000, Val: 0.7780, Test: 0.7960\n",
      "Epoch: 110, Loss: 0.0152, Train: 1.0000, Val: 0.7760, Test: 0.7960\n",
      "Epoch: 120, Loss: 0.0143, Train: 1.0000, Val: 0.7740, Test: 0.7960\n",
      "Epoch: 130, Loss: 0.0136, Train: 1.0000, Val: 0.7720, Test: 0.7940\n",
      "Epoch: 140, Loss: 0.0129, Train: 1.0000, Val: 0.7700, Test: 0.7970\n",
      "Epoch: 150, Loss: 0.0124, Train: 1.0000, Val: 0.7740, Test: 0.7970\n",
      "Epoch: 160, Loss: 0.0119, Train: 1.0000, Val: 0.7780, Test: 0.8000\n",
      "Epoch: 170, Loss: 0.0114, Train: 1.0000, Val: 0.7800, Test: 0.7990\n",
      "Epoch: 180, Loss: 0.0110, Train: 1.0000, Val: 0.7800, Test: 0.8010\n",
      "Epoch: 190, Loss: 0.0107, Train: 1.0000, Val: 0.7800, Test: 0.8000\n",
      "Epoch: 200, Loss: 0.0103, Train: 1.0000, Val: 0.7740, Test: 0.8010\n"
     ]
    }
   ],
   "source": [
    "model = GCN(in_channels=dataset.num_node_features, hidden_channels=16, out_channels=dataset.num_classes)\n",
    "optimizer = torch.optim.Adam(model.parameters(), lr=0.01, weight_decay=5e-4)\n",
    "\n",
    "def train():\n",
    "    model.train()\n",
    "    optimizer.zero_grad()\n",
    "    out = model(data.x, data.edge_index)\n",
    "    # Only use the training nodes for loss calculation\n",
    "    loss = F.cross_entropy(out[data.train_mask], data.y[data.train_mask])\n",
    "    loss.backward()\n",
    "    optimizer.step()\n",
    "    return loss.item()\n",
    "\n",
    "def test():\n",
    "    model.eval()\n",
    "    out = model(data.x, data.edge_index)\n",
    "    pred = out.argmax(dim=1)\n",
    "    accs = []\n",
    "    for mask in [data.train_mask, data.val_mask, data.test_mask]:\n",
    "        correct = pred[mask].eq(data.y[mask]).sum().item()\n",
    "        acc = correct / mask.sum().item()\n",
    "        accs.append(acc)\n",
    "    return accs  # returns [train_acc, val_acc, test_acc]\n",
    "\n",
    "for epoch in range(1, 201):\n",
    "    loss = train()\n",
    "    train_acc, val_acc, test_acc = test()\n",
    "    if epoch % 10 == 0:\n",
    "        print(f'Epoch: {epoch:03d}, Loss: {loss:.4f}, Train: {train_acc:.4f}, Val: {val_acc:.4f}, Test: {test_acc:.4f}')\n"
   ]
  },
  {
   "cell_type": "code",
   "execution_count": null,
   "metadata": {},
   "outputs": [],
   "source": []
  }
 ],
 "metadata": {
  "kernelspec": {
   "display_name": "pygdebias_env",
   "language": "python",
   "name": "python3"
  },
  "language_info": {
   "codemirror_mode": {
    "name": "ipython",
    "version": 3
   },
   "file_extension": ".py",
   "mimetype": "text/x-python",
   "name": "python",
   "nbconvert_exporter": "python",
   "pygments_lexer": "ipython3",
   "version": "3.9.20"
  }
 },
 "nbformat": 4,
 "nbformat_minor": 2
}
