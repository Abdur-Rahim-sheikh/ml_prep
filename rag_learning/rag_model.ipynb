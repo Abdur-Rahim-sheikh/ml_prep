{
 "cells": [
  {
   "cell_type": "markdown",
   "metadata": {},
   "source": [
    "# Rag practice\n",
    "* https://learnbybuilding.ai/tutorials/rag-from-scratch"
   ]
  },
  {
   "cell_type": "code",
   "execution_count": 5,
   "metadata": {},
   "outputs": [],
   "source": [
    "corpus_of_documents = [\n",
    "    \"Take a leisurely walk in the park and enjoy the fresh air.\",\n",
    "    \"Visit a local museum and discover something new.\",\n",
    "    \"Attend a live music concert and feel the rhythm.\",\n",
    "    \"Go for a hike and admire the natural scenery.\",\n",
    "    \"Have a picnic with friends and share some laughs.\",\n",
    "    \"Explore a new cuisine by dining at an ethnic restaurant.\",\n",
    "    \"Take a yoga class and stretch your body and mind.\",\n",
    "    \"Join a local sports league and enjoy some friendly competition.\",\n",
    "    \"Attend a workshop or lecture on a topic you're interested in.\",\n",
    "    \"Visit an amusement park and ride the roller coasters.\"\n",
    "]"
   ]
  },
  {
   "cell_type": "code",
   "execution_count": 6,
   "metadata": {},
   "outputs": [],
   "source": [
    "def jaccard_similarity(query, document):\n",
    "    # len(intersection_set)/len(union_set)\n",
    "    query = set(query.lower().split())\n",
    "    document = set(document.lower().split())\n",
    "    intersection = query.intersection(document)\n",
    "    return len(intersection)/(len(query)+len(document)-len(intersection))"
   ]
  },
  {
   "cell_type": "code",
   "execution_count": 7,
   "metadata": {},
   "outputs": [],
   "source": [
    "def return_response(query, corpus):\n",
    "    similarity = 0\n",
    "    best_match = None\n",
    "    for doc in corpus:\n",
    "        sim = jaccard_similarity(query, doc)\n",
    "        if sim > similarity:\n",
    "            similarity = sim\n",
    "            best_match = doc\n",
    "    return best_match"
   ]
  },
  {
   "cell_type": "code",
   "execution_count": 11,
   "metadata": {},
   "outputs": [],
   "source": [
    "user_prompt = \"What is a leisure activity that you like?\"\n",
    "user_input = \"I don't like to hike\""
   ]
  },
  {
   "cell_type": "code",
   "execution_count": 12,
   "metadata": {},
   "outputs": [
    {
     "data": {
      "text/plain": [
       "'Go for a hike and admire the natural scenery.'"
      ]
     },
     "execution_count": 12,
     "metadata": {},
     "output_type": "execute_result"
    }
   ],
   "source": [
    "return_response(user_input, corpus_of_documents)"
   ]
  },
  {
   "cell_type": "markdown",
   "metadata": {},
   "source": [
    "### Connecting llama using ollama"
   ]
  },
  {
   "cell_type": "code",
   "execution_count": 13,
   "metadata": {},
   "outputs": [],
   "source": [
    "import requests\n",
    "import json"
   ]
  },
  {
   "cell_type": "code",
   "execution_count": 20,
   "metadata": {},
   "outputs": [],
   "source": [
    "def get_prompt(user_input, relevant_document):\n",
    "    return f\"\"\"You are a bot that makes recommendations for activities. \n",
    "    You answer in very short sentences and do not include extra information. \n",
    "    This is the recommended activity: {relevant_document} The user input is: {user_input} \n",
    "    Compile a recommendation to the user based on the recommended activity and the user input.\"\"\""
   ]
  },
  {
   "cell_type": "code",
   "execution_count": 21,
   "metadata": {},
   "outputs": [
    {
     "name": "stdout",
     "output_type": "stream",
     "text": [
      "prompt='You are a bot that makes recommendations for activities. \\n    You answer in very short sentences and do not include extra information. \\n    This is the recommended activity: Go for a hike and admire the natural scenery. The user input is: I like to hike \\n    Compile a recommendation to the user based on the recommended activity and the user input.'\n",
      "You 're  already  a  fan  of  hiking !  Let 's  do  it  again  -  go  explore  some  new  trails  and  enjoy  the  breathtaking  views !  "
     ]
    }
   ],
   "source": [
    "user_input = \"I like to hike\"\n",
    "relevant_document = return_response(user_input, corpus_of_documents)\n",
    "full_response = []\n",
    "\n",
    "url = \"http://localhost:11434/api/generate\"\n",
    "prompt = get_prompt(user_input, relevant_document)\n",
    "data = {\n",
    "    \"model\": \"llama3:latest\",\n",
    "    \"prompt\": prompt,\n",
    "}\n",
    "print(f\"{prompt=}\")\n",
    "response = requests.post(url, data = json.dumps(data), headers={\"Content-Type\": \"application/json\"}, stream=True)\n",
    "try:\n",
    "    count = 0\n",
    "    for line in response.iter_lines():\n",
    "        if line:\n",
    "            decoded_line = json.loads(line.decode('utf-8'))\n",
    "            print(decoded_line['response'], end=' ')\n",
    "            full_response.append(decoded_line['response'])\n",
    "finally:\n",
    "    response.close()"
   ]
  },
  {
   "cell_type": "code",
   "execution_count": null,
   "metadata": {},
   "outputs": [],
   "source": [
    "print(''.join(full_response))"
   ]
  },
  {
   "cell_type": "markdown",
   "metadata": {},
   "source": [
    "### This is same as my customer support application on emma-gpt.injurycloud.com"
   ]
  },
  {
   "cell_type": "markdown",
   "metadata": {},
   "source": []
  }
 ],
 "metadata": {
  "kernelspec": {
   "display_name": "simple_env",
   "language": "python",
   "name": "python3"
  },
  "language_info": {
   "codemirror_mode": {
    "name": "ipython",
    "version": 3
   },
   "file_extension": ".py",
   "mimetype": "text/x-python",
   "name": "python",
   "nbconvert_exporter": "python",
   "pygments_lexer": "ipython3",
   "version": "3.12.4"
  }
 },
 "nbformat": 4,
 "nbformat_minor": 2
}
