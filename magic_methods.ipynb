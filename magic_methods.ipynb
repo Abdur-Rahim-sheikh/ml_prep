{
 "cells": [
  {
   "cell_type": "markdown",
   "metadata": {},
   "source": [
    "* Followed this tutorial [realpython](https://realpython.com/python-magic-methods/)"
   ]
  },
  {
   "cell_type": "markdown",
   "metadata": {},
   "source": [
    "1. [str vs repr](#str-vs-repr)\n",
    "2. [Arithmetic Operators](#Arithmetic-Operators)\n",
    "3. [Arithmatic Argument assignment](#Arithmatic-Argument-assignment)\n",
    "4. [.\\_\\_r*/\\_\\_ using right side object's operator](#\\_\\_r*/\\_\\_-using-right-side-objects-operator)"
   ]
  },
  {
   "cell_type": "markdown",
   "metadata": {},
   "source": [
    "## __str__ vs __repr__"
   ]
  },
  {
   "cell_type": "code",
   "execution_count": 1,
   "metadata": {},
   "outputs": [],
   "source": [
    "class Person:\n",
    "    def __init__(self, name, age):\n",
    "        self.name = name\n",
    "        self.age = age\n",
    "\n",
    "    def __str__(self):\n",
    "        return f'I am {self.name} and I am {self.age} years old'"
   ]
  },
  {
   "cell_type": "code",
   "execution_count": 3,
   "metadata": {},
   "outputs": [
    {
     "name": "stdout",
     "output_type": "stream",
     "text": [
      "I am Abir and I am 25 years old\n"
     ]
    }
   ],
   "source": [
    "abir = Person('Abir', 25)\n",
    "print(abir)"
   ]
  },
  {
   "cell_type": "code",
   "execution_count": 6,
   "metadata": {},
   "outputs": [],
   "source": [
    "class Person2(Person):\n",
    "    def __repr__(self):\n",
    "        return f'{type(self).__name__}({self.name}, {self.age})'\n",
    "class Person3:\n",
    "    def __init__(self, name, age):\n",
    "        self.name = name\n",
    "        self.age = age\n",
    "\n",
    "    def __repr__(self):\n",
    "        return f'{type(self).__name__}({self.name}, {self.age})'"
   ]
  },
  {
   "cell_type": "code",
   "execution_count": 9,
   "metadata": {},
   "outputs": [
    {
     "name": "stdout",
     "output_type": "stream",
     "text": [
      "I am Nadu and I am 18 years old\n",
      "Person2(Nadu, 18)\n",
      "<__main__.Person object at 0x7fd1fc3b73b0>\n",
      "Person3(Rahim, 26)\n"
     ]
    }
   ],
   "source": [
    "abir = Person('Abir', 25)\n",
    "nadu = Person2('Nadu', 18)\n",
    "print(nadu)\n",
    "print(repr(nadu))\n",
    "print(repr(abir))\n",
    "rahim = Person3('Rahim', 26)\n",
    "print(rahim)"
   ]
  },
  {
   "cell_type": "markdown",
   "metadata": {},
   "source": [
    "### Arithmetic operators\n",
    "| Operator | Method |\n",
    "| --- | --- |\n",
    "| + | \\_\\_add\\_\\_ |\n",
    "| - | \\_\\_sub\\_\\_ |\n",
    "| * | \\_\\_mul\\_\\_ |\n",
    "| / | \\_\\_truediv\\_\\_ |\n",
    "| // | \\_\\_floordiv\\_\\_ |\n",
    "| % | \\_\\_mod\\_\\_ |\n",
    "| ** | \\_\\_pow\\_\\_ |"
   ]
  },
  {
   "cell_type": "code",
   "execution_count": 56,
   "metadata": {},
   "outputs": [],
   "source": [
    "class MutualFund:\n",
    "    def __init__(self, name: str | list, ammount: float, admin: str = None):\n",
    "        if isinstance(name, str):\n",
    "            self.owners = [name]\n",
    "        else:\n",
    "            self.owners = name\n",
    "        self.ammount = ammount\n",
    "        self.admin = admin\n",
    "\n",
    "    def __str__(self):\n",
    "        return f'The MutualFund has {self.ammount} and the owners are {self.owners}, and the admin is {self.admin}'\n",
    "    \n",
    "    def __valid(self, other):\n",
    "        if not isinstance(other, type(self)) and self.admin and not other.admin:\n",
    "            raise TypeError(\"Other object is not a MutualFund object\")\n",
    "        elif self.admin==None:\n",
    "            raise TypeError(\"This object is not an admin to approve\")\n",
    "        elif self.admin != other.admin and other.admin:\n",
    "            raise TypeError(\"They have different admins\")\n",
    "        return True\n",
    "    \n",
    "    def __add__(self, other):\n",
    "        assert self.__valid(other)\n",
    "        return type(self)(self.owners+other.owners, self.ammount+other.ammount, self.admin)\n",
    "    \n",
    "    def __sub__(self, other):\n",
    "        assert self.__valid(other)\n",
    "        for owner in other.owners:\n",
    "            print(f\"{owner} in {self.owners}\")\n",
    "            if owner not in self.owners:\n",
    "                raise ValueError(f'{owner} is not an owner of this {type(self).__name__}')\n",
    "            \n",
    "        owners = [owner for owner in self.owners if owner not in other.owners]\n",
    "        ammount = self.ammount + other.ammount\n",
    "        return type(self)(owners, ammount, self.admin)\n",
    "    \n",
    "    def __mul__(self, other):\n",
    "        pass\n",
    "    def __truediv__(self, other):\n",
    "        pass\n",
    "    def __floordiv__(self, other):\n",
    "        pass"
   ]
  },
  {
   "cell_type": "code",
   "execution_count": 57,
   "metadata": {},
   "outputs": [
    {
     "data": {
      "text/plain": [
       "(\"The MutualFund has 3000 and the owners are ['Abir', 'Nadu'], and the admin is abir\",\n",
       " \"The MutualFund has 1000 and the owners are ['Abir'], and the admin is abir\")"
      ]
     },
     "execution_count": 57,
     "metadata": {},
     "output_type": "execute_result"
    }
   ],
   "source": [
    "m1 = MutualFund('Abir', 1000,'abir')\n",
    "m2 = MutualFund('Nadu', 2000)\n",
    "m3 = m1 + m2\n",
    "str(m3),str(m1)"
   ]
  },
  {
   "cell_type": "code",
   "execution_count": 58,
   "metadata": {},
   "outputs": [
    {
     "name": "stdout",
     "output_type": "stream",
     "text": [
      "Nadu in ['Abir']\n"
     ]
    },
    {
     "ename": "ValueError",
     "evalue": "Nadu is not an owner of this MutualFund",
     "output_type": "error",
     "traceback": [
      "\u001b[0;31m---------------------------------------------------------------------------\u001b[0m",
      "\u001b[0;31mValueError\u001b[0m                                Traceback (most recent call last)",
      "Cell \u001b[0;32mIn[58], line 1\u001b[0m\n\u001b[0;32m----> 1\u001b[0m \u001b[38;5;28mstr\u001b[39m(\u001b[43mm1\u001b[49m\u001b[43m \u001b[49m\u001b[38;5;241;43m-\u001b[39;49m\u001b[43m \u001b[49m\u001b[43mm2\u001b[49m)\n",
      "Cell \u001b[0;32mIn[56], line 31\u001b[0m, in \u001b[0;36mMutualFund.__sub__\u001b[0;34m(self, other)\u001b[0m\n\u001b[1;32m     29\u001b[0m     \u001b[38;5;28mprint\u001b[39m(\u001b[38;5;124mf\u001b[39m\u001b[38;5;124m\"\u001b[39m\u001b[38;5;132;01m{\u001b[39;00mowner\u001b[38;5;132;01m}\u001b[39;00m\u001b[38;5;124m in \u001b[39m\u001b[38;5;132;01m{\u001b[39;00m\u001b[38;5;28mself\u001b[39m\u001b[38;5;241m.\u001b[39mowners\u001b[38;5;132;01m}\u001b[39;00m\u001b[38;5;124m\"\u001b[39m)\n\u001b[1;32m     30\u001b[0m     \u001b[38;5;28;01mif\u001b[39;00m owner \u001b[38;5;129;01mnot\u001b[39;00m \u001b[38;5;129;01min\u001b[39;00m \u001b[38;5;28mself\u001b[39m\u001b[38;5;241m.\u001b[39mowners:\n\u001b[0;32m---> 31\u001b[0m         \u001b[38;5;28;01mraise\u001b[39;00m \u001b[38;5;167;01mValueError\u001b[39;00m(\u001b[38;5;124mf\u001b[39m\u001b[38;5;124m'\u001b[39m\u001b[38;5;132;01m{\u001b[39;00mowner\u001b[38;5;132;01m}\u001b[39;00m\u001b[38;5;124m is not an owner of this \u001b[39m\u001b[38;5;132;01m{\u001b[39;00m\u001b[38;5;28mtype\u001b[39m(\u001b[38;5;28mself\u001b[39m)\u001b[38;5;241m.\u001b[39m\u001b[38;5;18m__name__\u001b[39m\u001b[38;5;132;01m}\u001b[39;00m\u001b[38;5;124m'\u001b[39m)\n\u001b[1;32m     33\u001b[0m owners \u001b[38;5;241m=\u001b[39m [owner \u001b[38;5;28;01mfor\u001b[39;00m owner \u001b[38;5;129;01min\u001b[39;00m \u001b[38;5;28mself\u001b[39m\u001b[38;5;241m.\u001b[39mowners \u001b[38;5;28;01mif\u001b[39;00m owner \u001b[38;5;129;01mnot\u001b[39;00m \u001b[38;5;129;01min\u001b[39;00m other\u001b[38;5;241m.\u001b[39mowners]\n\u001b[1;32m     34\u001b[0m ammount \u001b[38;5;241m=\u001b[39m \u001b[38;5;28mself\u001b[39m\u001b[38;5;241m.\u001b[39mammount \u001b[38;5;241m+\u001b[39m other\u001b[38;5;241m.\u001b[39mammount\n",
      "\u001b[0;31mValueError\u001b[0m: Nadu is not an owner of this MutualFund"
     ]
    }
   ],
   "source": [
    "str(m1 - m2)"
   ]
  },
  {
   "cell_type": "markdown",
   "metadata": {},
   "source": [
    "## Arithmatic Argument assignment\n",
    "| Method | Description |\n",
    "| --- | --- |\n",
    "| += | \\_\\_iadd\\_\\_ |\n",
    "| -= | \\_\\_isub\\_\\_ |\n",
    "| *= | \\_\\_imul\\_\\_ |\n",
    "| /= | \\_\\_itruediv\\_\\_ |\n",
    "| //= | \\_\\_ifloordiv\\_\\_ |\n",
    "| %= | \\_\\_imod\\_\\_ |\n",
    "| **= | \\_\\_ipow\\_\\_ |"
   ]
  },
  {
   "cell_type": "code",
   "execution_count": 81,
   "metadata": {},
   "outputs": [],
   "source": [
    "# task"
   ]
  },
  {
   "cell_type": "markdown",
   "metadata": {},
   "source": [
    "### .\\_\\_r*/\\_\\_ using right side object's operator\n",
    "| Operator | Method |\n",
    "| --- | --- |\n",
    "| + | \\_\\_radd\\_\\_ |\n",
    "| - | \\_\\_rsub\\_\\_ |\n",
    "| * | \\_\\_rmul\\_\\_ |\n",
    "| / | \\_\\_rtruediv\\_\\_ |\n",
    "| // | \\_\\_rfloordiv\\_\\_ |\n",
    "| % | \\_\\_rmod\\_\\_ |\n",
    "| ** | \\_\\_rpow\\_\\_ |\n",
    "* all magic method are called by the object on the left side of the operator \n",
    "* but if the object on the left side does not have the magic method, \n",
    "* the object on the right side will be called if .__r*__ is defined."
   ]
  },
  {
   "cell_type": "code",
   "execution_count": 63,
   "metadata": {},
   "outputs": [],
   "source": [
    "class Number:\n",
    "    def __init__(self, value):\n",
    "        self.value = value\n",
    "    def __str__(self):\n",
    "        return str(self.value)\n",
    "    \n",
    "    def __add__(self, other):\n",
    "        print(\"__add__ called\")\n",
    "        if isinstance(other, Number):\n",
    "            return Number(self.value + other.value)\n",
    "        elif isinstance(other, int | float):\n",
    "            return Number(self.value + other)\n",
    "        else:\n",
    "            raise TypeError(\"unsupported operand type for +\")\n",
    "        \n",
    "class Number2(Number):\n",
    "    def __radd__(self, other):\n",
    "        print(\"__radd__ called\")\n",
    "        return self.__add__(other)"
   ]
  },
  {
   "cell_type": "code",
   "execution_count": 65,
   "metadata": {},
   "outputs": [
    {
     "name": "stdout",
     "output_type": "stream",
     "text": [
      "__add__ called\n",
      "25\n",
      "__radd__ called\n",
      "__add__ called\n",
      "25\n",
      "__add__ called\n",
      "15\n"
     ]
    }
   ],
   "source": [
    "n1 = Number(10)\n",
    "n2 = Number2(20)\n",
    "print(n2+5)\n",
    "print(5+n2)\n",
    "print(n1+5)\n",
    "# print(5+n1) this will raise an error"
   ]
  },
  {
   "cell_type": "markdown",
   "metadata": {},
   "source": [
    "## unary\n",
    "| operator | magic method |\n",
    "| --- | --- |\n",
    "| - | \\_\\_neg\\_\\_ |\n",
    "| + | \\_\\_pos\\_\\_ |"
   ]
  },
  {
   "cell_type": "code",
   "execution_count": 66,
   "metadata": {},
   "outputs": [],
   "source": [
    "# task"
   ]
  },
  {
   "cell_type": "markdown",
   "metadata": {},
   "source": [
    "## Comparison operators\n",
    "| Operator | Magic Method |\n",
    "|----------|--------------|\n",
    "| <       | \\_\\_lt\\_\\_    |\n",
    "| <=      | \\_\\_le\\_\\_    |\n",
    "| ==      | \\_\\_eq\\_\\_    |\n",
    "| !=      | \\_\\_ne\\_\\_    |\n",
    "| >       | \\_\\_gt\\_\\_    |\n",
    "| >=      | \\_\\_ge\\_\\_    |"
   ]
  },
  {
   "cell_type": "code",
   "execution_count": 67,
   "metadata": {},
   "outputs": [],
   "source": [
    "## Task\n",
    "#  https://realpython.com/python-magic-methods/"
   ]
  },
  {
   "cell_type": "markdown",
   "metadata": {},
   "source": [
    "## Membership operators\n",
    "| Operator | Magic Method |\n",
    "|----------|--------------|\n",
    "| in       | \\_\\_contains\\_\\_ |"
   ]
  },
  {
   "cell_type": "code",
   "execution_count": null,
   "metadata": {},
   "outputs": [],
   "source": [
    "#  task"
   ]
  },
  {
   "cell_type": "markdown",
   "metadata": {},
   "source": [
    "# Bitwise operators\n",
    "| Operator | Magic Method |\n",
    "|----------|--------------|\n",
    "| &        | \\_\\_and\\_\\_   |\n",
    "| \\|       | \\_\\_or\\_\\_    |\n",
    "| ^        | \\_\\_xor\\_\\_   |\n",
    "| ~        | \\_\\_invert\\_\\_|\n",
    "| >>       | \\_\\_rshift\\_\\_|\n",
    "| <<       | \\_\\_lshift\\_\\_|\n"
   ]
  },
  {
   "cell_type": "code",
   "execution_count": 78,
   "metadata": {},
   "outputs": [],
   "source": [
    "class MutualFundv2(MutualFund):\n",
    "    # assume all holds are equal\n",
    "    def __or__(self, other):\n",
    "        assert self._MutualFund__valid(other)\n",
    "        owners = self.owners.copy()\n",
    "        for owner in other.owners:\n",
    "            if owner not in self.owners:\n",
    "                owners.append(owner)\n",
    "        total = len(self.owners) + len(other.owners)\n",
    "        left = total - len(owners)\n",
    "        ammount = self.ammount + other.ammount\n",
    "        remains = ammount - ammount/total * left\n",
    "\n",
    "        return type(self)(owners, remains, self.admin)"
   ]
  },
  {
   "cell_type": "code",
   "execution_count": 79,
   "metadata": {},
   "outputs": [],
   "source": [
    "men2 = MutualFundv2('Abir', 1000,'abir')\n",
    "men3 = MutualFundv2('Nadu', 2000)"
   ]
  },
  {
   "cell_type": "code",
   "execution_count": 80,
   "metadata": {},
   "outputs": [
    {
     "name": "stdout",
     "output_type": "stream",
     "text": [
      "The MutualFund has 3000.0 and the owners are ['Abir', 'Nadu'], and the admin is abir\n"
     ]
    }
   ],
   "source": [
    "print(men2 | men3)"
   ]
  },
  {
   "cell_type": "markdown",
   "metadata": {},
   "source": [
    "## argument bitewise\n",
    "| Operator | Magic Method |\n",
    "|----------|--------------|\n",
    "| &=       | \\_\\_iand\\_\\_   |\n",
    "| \\|=      | \\_\\_ior\\_\\_    |\n",
    "| ^=       | \\_\\_ixor\\_\\_   |\n",
    "| >>=      | \\_\\_irshift\\_\\_|\n",
    "| <<=      | \\_\\_ilshift\\_\\_|"
   ]
  },
  {
   "cell_type": "code",
   "execution_count": 82,
   "metadata": {},
   "outputs": [],
   "source": [
    "# just forward them to bitwise operators"
   ]
  },
  {
   "cell_type": "markdown",
   "metadata": {},
   "source": [
    "# More more more\n",
    "* https://realpython.com/python-magic-methods/"
   ]
  },
  {
   "cell_type": "markdown",
   "metadata": {},
   "source": [
    "## get item\n",
    "\n",
    "* \\_\\_getitem\\_\\_"
   ]
  },
  {
   "cell_type": "code",
   "execution_count": 1,
   "metadata": {},
   "outputs": [],
   "source": [
    "class Wealth:\n",
    "    def __init__(self, value):\n",
    "        self.value = value\n",
    "    def __getitem__(self, index):\n",
    "        return \"abir\""
   ]
  },
  {
   "cell_type": "code",
   "execution_count": 2,
   "metadata": {},
   "outputs": [
    {
     "data": {
      "text/plain": [
       "'abir'"
      ]
     },
     "execution_count": 2,
     "metadata": {},
     "output_type": "execute_result"
    }
   ],
   "source": [
    "Wealth(100)[0]"
   ]
  },
  {
   "cell_type": "code",
   "execution_count": null,
   "metadata": {},
   "outputs": [],
   "source": []
  }
 ],
 "metadata": {
  "kernelspec": {
   "display_name": "simple_env",
   "language": "python",
   "name": "python3"
  },
  "language_info": {
   "codemirror_mode": {
    "name": "ipython",
    "version": 3
   },
   "file_extension": ".py",
   "mimetype": "text/x-python",
   "name": "python",
   "nbconvert_exporter": "python",
   "pygments_lexer": "ipython3",
   "version": "3.12.4"
  }
 },
 "nbformat": 4,
 "nbformat_minor": 2
}
