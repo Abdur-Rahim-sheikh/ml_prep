{
 "cells": [
  {
   "cell_type": "markdown",
   "metadata": {},
   "source": [
    "#### Here I pratice to learn about squeeze and unsqueeze in python"
   ]
  },
  {
   "cell_type": "code",
   "execution_count": 2,
   "metadata": {},
   "outputs": [
    {
     "name": "stdout",
     "output_type": "stream",
     "text": [
      "a.shape=torch.Size([3]), b.shape=torch.Size([1, 3]), c.shape=torch.Size([3, 1]), d.shape=torch.Size([1, 3, 1])\n"
     ]
    }
   ],
   "source": [
    "# basic\n",
    "import torch\n",
    "a = torch.tensor([1,2,3])\n",
    "\n",
    "b = a.unsqueeze(dim=0)\n",
    "\n",
    "c = a.unsqueeze(dim=1)\n",
    "\n",
    "d = a.unsqueeze(dim=0).unsqueeze(dim=2)\n",
    "\n",
    "print(f\"{a.shape=}, {b.shape=}, {c.shape=}, {d.shape=}\")"
   ]
  },
  {
   "cell_type": "code",
   "execution_count": 3,
   "metadata": {},
   "outputs": [
    {
     "name": "stdout",
     "output_type": "stream",
     "text": [
      "result.shape=torch.Size([3, 3]), \n",
      "result=tensor([[11, 12, 13],\n",
      "        [21, 22, 23],\n",
      "        [31, 32, 33]])\n"
     ]
    }
   ],
   "source": [
    "# broadcasting\n",
    "a = torch.tensor([1,2,3])\n",
    "b = torch.tensor([10,20,30]).unsqueeze(dim=1)\n",
    "result = a + b\n",
    "print(f\"{result.shape=}, \\n{result=}\")"
   ]
  },
  {
   "cell_type": "code",
   "execution_count": 5,
   "metadata": {},
   "outputs": [
    {
     "name": "stdout",
     "output_type": "stream",
     "text": [
      "outer_product.shape=torch.Size([3, 3]), \n",
      "outer_product=tensor([[ 4,  5,  6],\n",
      "        [ 8, 10, 12],\n",
      "        [12, 15, 18]])\n",
      "outer_product2.shape=torch.Size([3, 3]), \n",
      "outer_product2=tensor([[ 4,  5,  6],\n",
      "        [ 8, 10, 12],\n",
      "        [12, 15, 18]])\n"
     ]
    }
   ],
   "source": [
    "# outer product using broadcasting\n",
    "a = torch.tensor([1,2,3])\n",
    "b = torch.tensor([4, 5 ,6])\n",
    "outer_product = a.unsqueeze(dim=1) * b\n",
    "outer_product2 = a.unsqueeze(dim=1) * b.unsqueeze(dim=0)\n",
    "print(f\"{outer_product.shape=}, \\n{outer_product=}\")\n",
    "print(f\"{outer_product2.shape=}, \\n{outer_product2=}\")"
   ]
  },
  {
   "cell_type": "code",
   "execution_count": 7,
   "metadata": {},
   "outputs": [
    {
     "name": "stdout",
     "output_type": "stream",
     "text": [
      "points_a.unsqueeze(dim=1)=tensor([[[1, 2]],\n",
      "\n",
      "        [[3, 4]]])\n",
      "points_b.unsqueeze(dim=0)=tensor([[[5, 6],\n",
      "         [7, 8]]])\n",
      "diff=tensor([[[-4, -4],\n",
      "         [-6, -6]],\n",
      "\n",
      "        [[-2, -2],\n",
      "         [-4, -4]]])\n",
      "distance=tensor([[5.6569, 8.4853],\n",
      "        [2.8284, 5.6569]])\n"
     ]
    }
   ],
   "source": [
    "# pairwise similarity broadcasting\n",
    "points_a = torch.tensor([[1,2], [3,4]]) # shape (2,2)\n",
    "points_b = torch.tensor([[5,6], [7,8]]) # shape (2,2)\n",
    "\n",
    "print(f\"{points_a.unsqueeze(dim=1)=}\")\n",
    "print(f\"{points_b.unsqueeze(dim=0)=}\")\n",
    "diff = points_a.unsqueeze(dim=1) - points_b.unsqueeze(dim=0) # shape (2,2,2)\n",
    "print(f\"{diff=}\")\n",
    "distance = torch.sqrt(torch.sum(diff**2, dim=-1))\n",
    "print(f\"{distance=}\")"
   ]
  },
  {
   "cell_type": "code",
   "execution_count": null,
   "metadata": {},
   "outputs": [],
   "source": []
  }
 ],
 "metadata": {
  "kernelspec": {
   "display_name": "pygdebias_env",
   "language": "python",
   "name": "python3"
  },
  "language_info": {
   "codemirror_mode": {
    "name": "ipython",
    "version": 3
   },
   "file_extension": ".py",
   "mimetype": "text/x-python",
   "name": "python",
   "nbconvert_exporter": "python",
   "pygments_lexer": "ipython3",
   "version": "3.9.20"
  }
 },
 "nbformat": 4,
 "nbformat_minor": 2
}
